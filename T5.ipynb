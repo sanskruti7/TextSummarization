{
  "cells": [
    {
      "cell_type": "markdown",
      "metadata": {
        "id": "view-in-github",
        "colab_type": "text"
      },
      "source": [
        "<a href=\"https://colab.research.google.com/github/sanskruti7/TextSummarization/blob/main/T5.ipynb\" target=\"_parent\"><img src=\"https://colab.research.google.com/assets/colab-badge.svg\" alt=\"Open In Colab\"/></a>"
      ]
    },
    {
      "cell_type": "code",
      "execution_count": null,
      "metadata": {
        "id": "aw2X56RzbAbb",
        "colab": {
          "base_uri": "https://localhost:8080/",
          "height": 1000
        },
        "outputId": "b23ed478-405d-4934-fb40-02de14f8d96f"
      },
      "outputs": [
        {
          "output_type": "stream",
          "name": "stdout",
          "text": [
            "Looking in indexes: https://pypi.org/simple, https://us-python.pkg.dev/colab-wheels/public/simple/\n",
            "Collecting simplet5\n",
            "  Downloading simplet5-0.1.4.tar.gz (7.3 kB)\n",
            "Requirement already satisfied: numpy in /usr/local/lib/python3.8/dist-packages (from simplet5) (1.21.6)\n",
            "Requirement already satisfied: pandas in /usr/local/lib/python3.8/dist-packages (from simplet5) (1.3.5)\n",
            "Collecting sentencepiece\n",
            "  Downloading sentencepiece-0.1.97-cp38-cp38-manylinux_2_17_x86_64.manylinux2014_x86_64.whl (1.3 MB)\n",
            "\u001b[K     |████████████████████████████████| 1.3 MB 13.4 MB/s \n",
            "\u001b[?25hRequirement already satisfied: torch!=1.8.0,>=1.7.0 in /usr/local/lib/python3.8/dist-packages (from simplet5) (1.12.1+cu113)\n",
            "Collecting transformers==4.16.2\n",
            "  Downloading transformers-4.16.2-py3-none-any.whl (3.5 MB)\n",
            "\u001b[K     |████████████████████████████████| 3.5 MB 56.6 MB/s \n",
            "\u001b[?25hCollecting pytorch-lightning==1.5.10\n",
            "  Downloading pytorch_lightning-1.5.10-py3-none-any.whl (527 kB)\n",
            "\u001b[K     |████████████████████████████████| 527 kB 58.6 MB/s \n",
            "\u001b[?25hRequirement already satisfied: tqdm>=4.41.0 in /usr/local/lib/python3.8/dist-packages (from pytorch-lightning==1.5.10->simplet5) (4.64.1)\n",
            "Collecting setuptools==59.5.0\n",
            "  Downloading setuptools-59.5.0-py3-none-any.whl (952 kB)\n",
            "\u001b[K     |████████████████████████████████| 952 kB 71.3 MB/s \n",
            "\u001b[?25hRequirement already satisfied: fsspec[http]!=2021.06.0,>=2021.05.0 in /usr/local/lib/python3.8/dist-packages (from pytorch-lightning==1.5.10->simplet5) (2022.11.0)\n",
            "Requirement already satisfied: typing-extensions in /usr/local/lib/python3.8/dist-packages (from pytorch-lightning==1.5.10->simplet5) (4.1.1)\n",
            "Requirement already satisfied: tensorboard>=2.2.0 in /usr/local/lib/python3.8/dist-packages (from pytorch-lightning==1.5.10->simplet5) (2.9.1)\n",
            "Requirement already satisfied: packaging>=17.0 in /usr/local/lib/python3.8/dist-packages (from pytorch-lightning==1.5.10->simplet5) (21.3)\n",
            "Collecting pyDeprecate==0.3.1\n",
            "  Downloading pyDeprecate-0.3.1-py3-none-any.whl (10 kB)\n",
            "Collecting future>=0.17.1\n",
            "  Downloading future-0.18.2.tar.gz (829 kB)\n",
            "\u001b[K     |████████████████████████████████| 829 kB 73.6 MB/s \n",
            "\u001b[?25hRequirement already satisfied: PyYAML>=5.1 in /usr/local/lib/python3.8/dist-packages (from pytorch-lightning==1.5.10->simplet5) (6.0)\n",
            "Collecting torchmetrics>=0.4.1\n",
            "  Downloading torchmetrics-0.11.0-py3-none-any.whl (512 kB)\n",
            "\u001b[K     |████████████████████████████████| 512 kB 66.4 MB/s \n",
            "\u001b[?25hCollecting sacremoses\n",
            "  Downloading sacremoses-0.0.53.tar.gz (880 kB)\n",
            "\u001b[K     |████████████████████████████████| 880 kB 68.9 MB/s \n",
            "\u001b[?25hCollecting huggingface-hub<1.0,>=0.1.0\n",
            "  Downloading huggingface_hub-0.11.1-py3-none-any.whl (182 kB)\n",
            "\u001b[K     |████████████████████████████████| 182 kB 69.7 MB/s \n",
            "\u001b[?25hRequirement already satisfied: filelock in /usr/local/lib/python3.8/dist-packages (from transformers==4.16.2->simplet5) (3.8.0)\n",
            "Requirement already satisfied: requests in /usr/local/lib/python3.8/dist-packages (from transformers==4.16.2->simplet5) (2.23.0)\n",
            "Requirement already satisfied: regex!=2019.12.17 in /usr/local/lib/python3.8/dist-packages (from transformers==4.16.2->simplet5) (2022.6.2)\n",
            "Collecting tokenizers!=0.11.3,>=0.10.1\n",
            "  Downloading tokenizers-0.13.2-cp38-cp38-manylinux_2_17_x86_64.manylinux2014_x86_64.whl (7.6 MB)\n",
            "\u001b[K     |████████████████████████████████| 7.6 MB 54.3 MB/s \n",
            "\u001b[?25hRequirement already satisfied: aiohttp!=4.0.0a0,!=4.0.0a1 in /usr/local/lib/python3.8/dist-packages (from fsspec[http]!=2021.06.0,>=2021.05.0->pytorch-lightning==1.5.10->simplet5) (3.8.3)\n",
            "Requirement already satisfied: frozenlist>=1.1.1 in /usr/local/lib/python3.8/dist-packages (from aiohttp!=4.0.0a0,!=4.0.0a1->fsspec[http]!=2021.06.0,>=2021.05.0->pytorch-lightning==1.5.10->simplet5) (1.3.3)\n",
            "Requirement already satisfied: attrs>=17.3.0 in /usr/local/lib/python3.8/dist-packages (from aiohttp!=4.0.0a0,!=4.0.0a1->fsspec[http]!=2021.06.0,>=2021.05.0->pytorch-lightning==1.5.10->simplet5) (22.1.0)\n",
            "Requirement already satisfied: aiosignal>=1.1.2 in /usr/local/lib/python3.8/dist-packages (from aiohttp!=4.0.0a0,!=4.0.0a1->fsspec[http]!=2021.06.0,>=2021.05.0->pytorch-lightning==1.5.10->simplet5) (1.3.1)\n",
            "Requirement already satisfied: charset-normalizer<3.0,>=2.0 in /usr/local/lib/python3.8/dist-packages (from aiohttp!=4.0.0a0,!=4.0.0a1->fsspec[http]!=2021.06.0,>=2021.05.0->pytorch-lightning==1.5.10->simplet5) (2.1.1)\n",
            "Requirement already satisfied: multidict<7.0,>=4.5 in /usr/local/lib/python3.8/dist-packages (from aiohttp!=4.0.0a0,!=4.0.0a1->fsspec[http]!=2021.06.0,>=2021.05.0->pytorch-lightning==1.5.10->simplet5) (6.0.2)\n",
            "Requirement already satisfied: async-timeout<5.0,>=4.0.0a3 in /usr/local/lib/python3.8/dist-packages (from aiohttp!=4.0.0a0,!=4.0.0a1->fsspec[http]!=2021.06.0,>=2021.05.0->pytorch-lightning==1.5.10->simplet5) (4.0.2)\n",
            "Requirement already satisfied: yarl<2.0,>=1.0 in /usr/local/lib/python3.8/dist-packages (from aiohttp!=4.0.0a0,!=4.0.0a1->fsspec[http]!=2021.06.0,>=2021.05.0->pytorch-lightning==1.5.10->simplet5) (1.8.1)\n",
            "Requirement already satisfied: pyparsing!=3.0.5,>=2.0.2 in /usr/local/lib/python3.8/dist-packages (from packaging>=17.0->pytorch-lightning==1.5.10->simplet5) (3.0.9)\n",
            "Requirement already satisfied: google-auth-oauthlib<0.5,>=0.4.1 in /usr/local/lib/python3.8/dist-packages (from tensorboard>=2.2.0->pytorch-lightning==1.5.10->simplet5) (0.4.6)\n",
            "Requirement already satisfied: tensorboard-data-server<0.7.0,>=0.6.0 in /usr/local/lib/python3.8/dist-packages (from tensorboard>=2.2.0->pytorch-lightning==1.5.10->simplet5) (0.6.1)\n",
            "Requirement already satisfied: markdown>=2.6.8 in /usr/local/lib/python3.8/dist-packages (from tensorboard>=2.2.0->pytorch-lightning==1.5.10->simplet5) (3.4.1)\n",
            "Requirement already satisfied: grpcio>=1.24.3 in /usr/local/lib/python3.8/dist-packages (from tensorboard>=2.2.0->pytorch-lightning==1.5.10->simplet5) (1.50.0)\n",
            "Requirement already satisfied: google-auth<3,>=1.6.3 in /usr/local/lib/python3.8/dist-packages (from tensorboard>=2.2.0->pytorch-lightning==1.5.10->simplet5) (2.14.1)\n",
            "Requirement already satisfied: protobuf<3.20,>=3.9.2 in /usr/local/lib/python3.8/dist-packages (from tensorboard>=2.2.0->pytorch-lightning==1.5.10->simplet5) (3.19.6)\n",
            "Requirement already satisfied: tensorboard-plugin-wit>=1.6.0 in /usr/local/lib/python3.8/dist-packages (from tensorboard>=2.2.0->pytorch-lightning==1.5.10->simplet5) (1.8.1)\n",
            "Requirement already satisfied: wheel>=0.26 in /usr/local/lib/python3.8/dist-packages (from tensorboard>=2.2.0->pytorch-lightning==1.5.10->simplet5) (0.38.4)\n",
            "Requirement already satisfied: werkzeug>=1.0.1 in /usr/local/lib/python3.8/dist-packages (from tensorboard>=2.2.0->pytorch-lightning==1.5.10->simplet5) (1.0.1)\n",
            "Requirement already satisfied: absl-py>=0.4 in /usr/local/lib/python3.8/dist-packages (from tensorboard>=2.2.0->pytorch-lightning==1.5.10->simplet5) (1.3.0)\n",
            "Requirement already satisfied: rsa<5,>=3.1.4 in /usr/local/lib/python3.8/dist-packages (from google-auth<3,>=1.6.3->tensorboard>=2.2.0->pytorch-lightning==1.5.10->simplet5) (4.9)\n",
            "Requirement already satisfied: cachetools<6.0,>=2.0.0 in /usr/local/lib/python3.8/dist-packages (from google-auth<3,>=1.6.3->tensorboard>=2.2.0->pytorch-lightning==1.5.10->simplet5) (5.2.0)\n",
            "Requirement already satisfied: six>=1.9.0 in /usr/local/lib/python3.8/dist-packages (from google-auth<3,>=1.6.3->tensorboard>=2.2.0->pytorch-lightning==1.5.10->simplet5) (1.15.0)\n",
            "Requirement already satisfied: pyasn1-modules>=0.2.1 in /usr/local/lib/python3.8/dist-packages (from google-auth<3,>=1.6.3->tensorboard>=2.2.0->pytorch-lightning==1.5.10->simplet5) (0.2.8)\n",
            "Requirement already satisfied: requests-oauthlib>=0.7.0 in /usr/local/lib/python3.8/dist-packages (from google-auth-oauthlib<0.5,>=0.4.1->tensorboard>=2.2.0->pytorch-lightning==1.5.10->simplet5) (1.3.1)\n",
            "Requirement already satisfied: importlib-metadata>=4.4 in /usr/local/lib/python3.8/dist-packages (from markdown>=2.6.8->tensorboard>=2.2.0->pytorch-lightning==1.5.10->simplet5) (4.13.0)\n",
            "Requirement already satisfied: zipp>=0.5 in /usr/local/lib/python3.8/dist-packages (from importlib-metadata>=4.4->markdown>=2.6.8->tensorboard>=2.2.0->pytorch-lightning==1.5.10->simplet5) (3.10.0)\n",
            "Requirement already satisfied: pyasn1<0.5.0,>=0.4.6 in /usr/local/lib/python3.8/dist-packages (from pyasn1-modules>=0.2.1->google-auth<3,>=1.6.3->tensorboard>=2.2.0->pytorch-lightning==1.5.10->simplet5) (0.4.8)\n",
            "Requirement already satisfied: chardet<4,>=3.0.2 in /usr/local/lib/python3.8/dist-packages (from requests->transformers==4.16.2->simplet5) (3.0.4)\n",
            "Requirement already satisfied: idna<3,>=2.5 in /usr/local/lib/python3.8/dist-packages (from requests->transformers==4.16.2->simplet5) (2.10)\n",
            "Requirement already satisfied: urllib3!=1.25.0,!=1.25.1,<1.26,>=1.21.1 in /usr/local/lib/python3.8/dist-packages (from requests->transformers==4.16.2->simplet5) (1.24.3)\n",
            "Requirement already satisfied: certifi>=2017.4.17 in /usr/local/lib/python3.8/dist-packages (from requests->transformers==4.16.2->simplet5) (2022.9.24)\n",
            "Requirement already satisfied: oauthlib>=3.0.0 in /usr/local/lib/python3.8/dist-packages (from requests-oauthlib>=0.7.0->google-auth-oauthlib<0.5,>=0.4.1->tensorboard>=2.2.0->pytorch-lightning==1.5.10->simplet5) (3.2.2)\n",
            "Requirement already satisfied: python-dateutil>=2.7.3 in /usr/local/lib/python3.8/dist-packages (from pandas->simplet5) (2.8.2)\n",
            "Requirement already satisfied: pytz>=2017.3 in /usr/local/lib/python3.8/dist-packages (from pandas->simplet5) (2022.6)\n",
            "Requirement already satisfied: click in /usr/local/lib/python3.8/dist-packages (from sacremoses->transformers==4.16.2->simplet5) (7.1.2)\n",
            "Requirement already satisfied: joblib in /usr/local/lib/python3.8/dist-packages (from sacremoses->transformers==4.16.2->simplet5) (1.2.0)\n",
            "Building wheels for collected packages: simplet5, future, sacremoses\n",
            "  Building wheel for simplet5 (setup.py) ... \u001b[?25l\u001b[?25hdone\n",
            "  Created wheel for simplet5: filename=simplet5-0.1.4-py3-none-any.whl size=6873 sha256=05433a1867d3148855172a2ed342970ce14e61a7bc44572721294df8a113674f\n",
            "  Stored in directory: /root/.cache/pip/wheels/32/a6/37/e007cfdbceac6347aa13bc2a881ac87d2a3d6e4202663ee311\n",
            "  Building wheel for future (setup.py) ... \u001b[?25l\u001b[?25hdone\n",
            "  Created wheel for future: filename=future-0.18.2-py3-none-any.whl size=491071 sha256=3fb34cd5e4d78a75900cbf8e2272488329edec734c0c3d6deae64360fa0ac033\n",
            "  Stored in directory: /root/.cache/pip/wheels/8e/70/28/3d6ccd6e315f65f245da085482a2e1c7d14b90b30f239e2cf4\n",
            "  Building wheel for sacremoses (setup.py) ... \u001b[?25l\u001b[?25hdone\n",
            "  Created wheel for sacremoses: filename=sacremoses-0.0.53-py3-none-any.whl size=895260 sha256=5e3b6c0153484f9a751a8efda9981e33cf31ca24b187d05a93eab1453aad54ca\n",
            "  Stored in directory: /root/.cache/pip/wheels/82/ab/9b/c15899bf659ba74f623ac776e861cf2eb8608c1825ddec66a4\n",
            "Successfully built simplet5 future sacremoses\n",
            "Installing collected packages: setuptools, torchmetrics, tokenizers, sacremoses, pyDeprecate, huggingface-hub, future, transformers, sentencepiece, pytorch-lightning, simplet5\n",
            "  Attempting uninstall: setuptools\n",
            "    Found existing installation: setuptools 57.4.0\n",
            "    Uninstalling setuptools-57.4.0:\n",
            "      Successfully uninstalled setuptools-57.4.0\n",
            "  Attempting uninstall: future\n",
            "    Found existing installation: future 0.16.0\n",
            "    Uninstalling future-0.16.0:\n",
            "      Successfully uninstalled future-0.16.0\n",
            "\u001b[31mERROR: pip's dependency resolver does not currently take into account all the packages that are installed. This behaviour is the source of the following dependency conflicts.\n",
            "ipython 7.9.0 requires jedi>=0.10, which is not installed.\u001b[0m\n",
            "Successfully installed future-0.18.2 huggingface-hub-0.11.1 pyDeprecate-0.3.1 pytorch-lightning-1.5.10 sacremoses-0.0.53 sentencepiece-0.1.97 setuptools-59.5.0 simplet5-0.1.4 tokenizers-0.13.2 torchmetrics-0.11.0 transformers-4.16.2\n"
          ]
        },
        {
          "output_type": "display_data",
          "data": {
            "application/vnd.colab-display-data+json": {
              "pip_warning": {
                "packages": [
                  "pkg_resources"
                ]
              }
            }
          },
          "metadata": {}
        },
        {
          "output_type": "stream",
          "name": "stdout",
          "text": [
            "\u001b[K     |████████████████████████████████| 206 kB 7.6 MB/s \n",
            "\u001b[K     |████████████████████████████████| 9.2 MB 15.0 MB/s \n",
            "\u001b[K     |████████████████████████████████| 125 kB 58.0 MB/s \n",
            "\u001b[K     |████████████████████████████████| 1.9 MB 27.7 MB/s \n",
            "\u001b[K     |████████████████████████████████| 43 kB 1.1 MB/s \n",
            "\u001b[K     |████████████████████████████████| 4.7 MB 71.1 MB/s \n",
            "\u001b[K     |████████████████████████████████| 78 kB 7.1 MB/s \n",
            "\u001b[K     |████████████████████████████████| 164 kB 74.0 MB/s \n",
            "\u001b[K     |████████████████████████████████| 182 kB 75.4 MB/s \n",
            "\u001b[K     |████████████████████████████████| 237 kB 81.7 MB/s \n",
            "\u001b[K     |████████████████████████████████| 62 kB 1.4 MB/s \n",
            "\u001b[K     |████████████████████████████████| 51 kB 5.7 MB/s \n",
            "\u001b[K     |████████████████████████████████| 168 kB 79.2 MB/s \n",
            "\u001b[K     |████████████████████████████████| 168 kB 76.7 MB/s \n",
            "\u001b[K     |████████████████████████████████| 166 kB 84.2 MB/s \n",
            "\u001b[K     |████████████████████████████████| 166 kB 84.7 MB/s \n",
            "\u001b[K     |████████████████████████████████| 162 kB 83.9 MB/s \n",
            "\u001b[K     |████████████████████████████████| 162 kB 80.2 MB/s \n",
            "\u001b[K     |████████████████████████████████| 158 kB 84.2 MB/s \n",
            "\u001b[K     |████████████████████████████████| 157 kB 86.3 MB/s \n",
            "\u001b[K     |████████████████████████████████| 157 kB 72.9 MB/s \n",
            "\u001b[K     |████████████████████████████████| 157 kB 82.7 MB/s \n",
            "\u001b[K     |████████████████████████████████| 157 kB 81.6 MB/s \n",
            "\u001b[K     |████████████████████████████████| 157 kB 86.1 MB/s \n",
            "\u001b[K     |████████████████████████████████| 157 kB 84.0 MB/s \n",
            "\u001b[K     |████████████████████████████████| 157 kB 77.2 MB/s \n",
            "\u001b[K     |████████████████████████████████| 156 kB 82.5 MB/s \n",
            "\u001b[?25h  Building wheel for seqeval (setup.py) ... \u001b[?25l\u001b[?25hdone\n",
            "  Building wheel for validators (setup.py) ... \u001b[?25l\u001b[?25hdone\n",
            "  Building wheel for pathtools (setup.py) ... \u001b[?25l\u001b[?25hdone\n"
          ]
        }
      ],
      "source": [
        "!pip install simplet5\n",
        "!pip install -q simpletransformers==0.60.9"
      ]
    },
    {
      "cell_type": "code",
      "execution_count": null,
      "metadata": {
        "colab": {
          "base_uri": "https://localhost:8080/"
        },
        "id": "gk3lUG4JECam",
        "outputId": "7bd7b451-36b5-4883-ae7d-98c25fc40de5"
      },
      "outputs": [
        {
          "output_type": "stream",
          "name": "stdout",
          "text": [
            "Mounted at /content/drive\n"
          ]
        }
      ],
      "source": [
        "from google.colab import drive\n",
        "drive.mount('/content/drive')"
      ]
    },
    {
      "cell_type": "code",
      "execution_count": null,
      "metadata": {
        "id": "DzGtoNTRbTRe",
        "colab": {
          "base_uri": "https://localhost:8080/",
          "height": 206
        },
        "outputId": "f7018218-f29a-4690-ef2a-98da129e843a"
      },
      "outputs": [
        {
          "output_type": "execute_result",
          "data": {
            "text/plain": [
              "                                 introductionOrginal  \\\n",
              "0  We define a measure called success rate to eva...   \n",
              "1  HEAD and neck cancer is among the most prevale...   \n",
              "2  Positron emission tomography (PET) with 2-deox...   \n",
              "3  The 2009 passage of the HITECH Act altered the...   \n",
              "4  In this Big data era finding the hidden patter...   \n",
              "\n",
              "                                        introduction  \n",
              "0  The success rate computes the percentage of sy...  \n",
              "1  Accurate and robust GTV delineation allows for...  \n",
              "2  Positron emission tomography (PET) with 2-deox...  \n",
              "3  Large Electronic Health Record (EHR) datasets ...  \n",
              "4  The semantic web is next level in web which vi...  "
            ],
            "text/html": [
              "\n",
              "  <div id=\"df-4d0c6b2b-2318-49ad-a84f-ac54c2ef07c1\">\n",
              "    <div class=\"colab-df-container\">\n",
              "      <div>\n",
              "<style scoped>\n",
              "    .dataframe tbody tr th:only-of-type {\n",
              "        vertical-align: middle;\n",
              "    }\n",
              "\n",
              "    .dataframe tbody tr th {\n",
              "        vertical-align: top;\n",
              "    }\n",
              "\n",
              "    .dataframe thead th {\n",
              "        text-align: right;\n",
              "    }\n",
              "</style>\n",
              "<table border=\"1\" class=\"dataframe\">\n",
              "  <thead>\n",
              "    <tr style=\"text-align: right;\">\n",
              "      <th></th>\n",
              "      <th>introductionOrginal</th>\n",
              "      <th>introduction</th>\n",
              "    </tr>\n",
              "  </thead>\n",
              "  <tbody>\n",
              "    <tr>\n",
              "      <th>0</th>\n",
              "      <td>We define a measure called success rate to eva...</td>\n",
              "      <td>The success rate computes the percentage of sy...</td>\n",
              "    </tr>\n",
              "    <tr>\n",
              "      <th>1</th>\n",
              "      <td>HEAD and neck cancer is among the most prevale...</td>\n",
              "      <td>Accurate and robust GTV delineation allows for...</td>\n",
              "    </tr>\n",
              "    <tr>\n",
              "      <th>2</th>\n",
              "      <td>Positron emission tomography (PET) with 2-deox...</td>\n",
              "      <td>Positron emission tomography (PET) with 2-deox...</td>\n",
              "    </tr>\n",
              "    <tr>\n",
              "      <th>3</th>\n",
              "      <td>The 2009 passage of the HITECH Act altered the...</td>\n",
              "      <td>Large Electronic Health Record (EHR) datasets ...</td>\n",
              "    </tr>\n",
              "    <tr>\n",
              "      <th>4</th>\n",
              "      <td>In this Big data era finding the hidden patter...</td>\n",
              "      <td>The semantic web is next level in web which vi...</td>\n",
              "    </tr>\n",
              "  </tbody>\n",
              "</table>\n",
              "</div>\n",
              "      <button class=\"colab-df-convert\" onclick=\"convertToInteractive('df-4d0c6b2b-2318-49ad-a84f-ac54c2ef07c1')\"\n",
              "              title=\"Convert this dataframe to an interactive table.\"\n",
              "              style=\"display:none;\">\n",
              "        \n",
              "  <svg xmlns=\"http://www.w3.org/2000/svg\" height=\"24px\"viewBox=\"0 0 24 24\"\n",
              "       width=\"24px\">\n",
              "    <path d=\"M0 0h24v24H0V0z\" fill=\"none\"/>\n",
              "    <path d=\"M18.56 5.44l.94 2.06.94-2.06 2.06-.94-2.06-.94-.94-2.06-.94 2.06-2.06.94zm-11 1L8.5 8.5l.94-2.06 2.06-.94-2.06-.94L8.5 2.5l-.94 2.06-2.06.94zm10 10l.94 2.06.94-2.06 2.06-.94-2.06-.94-.94-2.06-.94 2.06-2.06.94z\"/><path d=\"M17.41 7.96l-1.37-1.37c-.4-.4-.92-.59-1.43-.59-.52 0-1.04.2-1.43.59L10.3 9.45l-7.72 7.72c-.78.78-.78 2.05 0 2.83L4 21.41c.39.39.9.59 1.41.59.51 0 1.02-.2 1.41-.59l7.78-7.78 2.81-2.81c.8-.78.8-2.07 0-2.86zM5.41 20L4 18.59l7.72-7.72 1.47 1.35L5.41 20z\"/>\n",
              "  </svg>\n",
              "      </button>\n",
              "      \n",
              "  <style>\n",
              "    .colab-df-container {\n",
              "      display:flex;\n",
              "      flex-wrap:wrap;\n",
              "      gap: 12px;\n",
              "    }\n",
              "\n",
              "    .colab-df-convert {\n",
              "      background-color: #E8F0FE;\n",
              "      border: none;\n",
              "      border-radius: 50%;\n",
              "      cursor: pointer;\n",
              "      display: none;\n",
              "      fill: #1967D2;\n",
              "      height: 32px;\n",
              "      padding: 0 0 0 0;\n",
              "      width: 32px;\n",
              "    }\n",
              "\n",
              "    .colab-df-convert:hover {\n",
              "      background-color: #E2EBFA;\n",
              "      box-shadow: 0px 1px 2px rgba(60, 64, 67, 0.3), 0px 1px 3px 1px rgba(60, 64, 67, 0.15);\n",
              "      fill: #174EA6;\n",
              "    }\n",
              "\n",
              "    [theme=dark] .colab-df-convert {\n",
              "      background-color: #3B4455;\n",
              "      fill: #D2E3FC;\n",
              "    }\n",
              "\n",
              "    [theme=dark] .colab-df-convert:hover {\n",
              "      background-color: #434B5C;\n",
              "      box-shadow: 0px 1px 3px 1px rgba(0, 0, 0, 0.15);\n",
              "      filter: drop-shadow(0px 1px 2px rgba(0, 0, 0, 0.3));\n",
              "      fill: #FFFFFF;\n",
              "    }\n",
              "  </style>\n",
              "\n",
              "      <script>\n",
              "        const buttonEl =\n",
              "          document.querySelector('#df-4d0c6b2b-2318-49ad-a84f-ac54c2ef07c1 button.colab-df-convert');\n",
              "        buttonEl.style.display =\n",
              "          google.colab.kernel.accessAllowed ? 'block' : 'none';\n",
              "\n",
              "        async function convertToInteractive(key) {\n",
              "          const element = document.querySelector('#df-4d0c6b2b-2318-49ad-a84f-ac54c2ef07c1');\n",
              "          const dataTable =\n",
              "            await google.colab.kernel.invokeFunction('convertToInteractive',\n",
              "                                                     [key], {});\n",
              "          if (!dataTable) return;\n",
              "\n",
              "          const docLinkHtml = 'Like what you see? Visit the ' +\n",
              "            '<a target=\"_blank\" href=https://colab.research.google.com/notebooks/data_table.ipynb>data table notebook</a>'\n",
              "            + ' to learn more about interactive tables.';\n",
              "          element.innerHTML = '';\n",
              "          dataTable['output_type'] = 'display_data';\n",
              "          await google.colab.output.renderOutput(dataTable, element);\n",
              "          const docLink = document.createElement('div');\n",
              "          docLink.innerHTML = docLinkHtml;\n",
              "          element.appendChild(docLink);\n",
              "        }\n",
              "      </script>\n",
              "    </div>\n",
              "  </div>\n",
              "  "
            ]
          },
          "metadata": {},
          "execution_count": 3
        }
      ],
      "source": [
        "# let's get a dataset\n",
        "import pandas as pd\n",
        "import numpy as np\n",
        "from simpletransformers.t5 import T5Model, T5Args\n",
        "import random\n",
        "from sklearn.model_selection import train_test_split\n",
        "\n",
        "df = pd.read_csv('/content/drive/MyDrive/ColabNotebooks/data/SumData.csv')\n",
        "df.head()"
      ]
    },
    {
      "cell_type": "code",
      "execution_count": null,
      "metadata": {
        "id": "GgNGegycistc",
        "colab": {
          "base_uri": "https://localhost:8080/"
        },
        "outputId": "6eb7e269-eb89-4bee-ebd0-aa80aed37818"
      },
      "outputs": [
        {
          "output_type": "execute_result",
          "data": {
            "text/plain": [
              "(46, 2)"
            ]
          },
          "metadata": {},
          "execution_count": 4
        }
      ],
      "source": [
        "df.shape"
      ]
    },
    {
      "cell_type": "code",
      "execution_count": null,
      "metadata": {
        "id": "16oOeSkphaPP",
        "colab": {
          "base_uri": "https://localhost:8080/",
          "height": 1000
        },
        "outputId": "36de2af9-c60e-4080-d39c-03e70cae1f1a"
      },
      "outputs": [
        {
          "output_type": "execute_result",
          "data": {
            "text/plain": [
              "                                          source_text  \\\n",
              "0   summarize: We define a measure called success ...   \n",
              "1   summarize: HEAD and neck cancer is among the m...   \n",
              "2   summarize: Positron emission tomography (PET) ...   \n",
              "3   summarize: The 2009 passage of the HITECH Act ...   \n",
              "4   summarize: In this Big data era finding the hi...   \n",
              "5   summarize: Chest radiographs are the most comm...   \n",
              "6   summarize: IoT paves various approaches in hea...   \n",
              "7   summarize: In this paper we have presented the...   \n",
              "8   summarize: Internet of things and Machine Lear...   \n",
              "9   summarize: The health foundations across the w...   \n",
              "10  summarize: Electronic health record (EHR) stor...   \n",
              "11  summarize: Currently, kidney disease is a majo...   \n",
              "12  summarize: The use of machine learning in heal...   \n",
              "13  summarize: Data are not simply sets of numbers...   \n",
              "14  summarize: Health is always a priority even be...   \n",
              "15  summarize: As the technology is advancing, dev...   \n",
              "16  summarize: The datasets consisted of 18F-FDG P...   \n",
              "17  summarize: 18F-FDG PET image was acquired befo...   \n",
              "18  summarize: The dataset was compiled by Influen...   \n",
              "19  summarize: Knowledge is acquired from various ...   \n",
              "20  summarize: CNNs constitute a feed-forward fami...   \n",
              "21  summarize: The IoT system architecture for the...   \n",
              "22  summarize: The IoT can be used in clinical car...   \n",
              "23  summarize: The current practice in medicine is...   \n",
              "24  summarize: MPHC architecture gives specialized...   \n",
              "25  summarize: The Sensor data exhibits all three ...   \n",
              "26  summarize: Machine Learning Algorithm\\nA. K-ne...   \n",
              "27  summarize: The overall system architecture of ...   \n",
              "28  summarize: Although Stevens’ attribute types a...   \n",
              "29  summarize: This section includes the methodolo...   \n",
              "30  summarize: This research paper uses openly ava...   \n",
              "31  summarize: Deep learning techniques, in partic...   \n",
              "32  summarize: Total seventy radiomics features we...   \n",
              "33  summarize: In the context of a health provider...   \n",
              "34  summarize: The evaluation of proposed system a...   \n",
              "35  summarize: Our dataset consists of 443 frontal...   \n",
              "36  summarize: The patient is made to press the he...   \n",
              "37  summarize: The IoT can be used in clinical car...   \n",
              "38  summarize: Machine learning largely depends on...   \n",
              "39  summarize: These days, the checking of unfortu...   \n",
              "40  summarize: Wearable devices, mobile sensors, t...   \n",
              "41  summarize: The results of four machine learnin...   \n",
              "42  summarize: The combination of different types ...   \n",
              "43  summarize: This paper discussed semantic data ...   \n",
              "44  summarize: This section discusses the overall ...   \n",
              "45  summarize: In this experimental study, six mac...   \n",
              "\n",
              "                                          target_text  \n",
              "0   The success rate computes the percentage of sy...  \n",
              "1   Accurate and robust GTV delineation allows for...  \n",
              "2   Positron emission tomography (PET) with 2-deox...  \n",
              "3   Large Electronic Health Record (EHR) datasets ...  \n",
              "4   The semantic web is next level in web which vi...  \n",
              "5   The most common findings in chest X-rays inclu...  \n",
              "6   Data is mounted up in real-time and at a swift...  \n",
              "7   We have presented the u-healthcare system in t...  \n",
              "8   Internet of things and Machine Learning (ML) h...  \n",
              "9   The health foundations across the world has re...  \n",
              "10  Electronic health record (EHR) stores electron...  \n",
              "11  A computer-aided diagnosis implement based on ...  \n",
              "12  The use of machine learning in healthcare expl...  \n",
              "13  In healthcare, data can represent patient cond...  \n",
              "14  The paper focuses on the prediction of the cri...  \n",
              "15  As the technology is advancing, devices are ge...  \n",
              "16  The datasets consisted of 18F-FDG PET/CT image...  \n",
              "17  The efficiency of chemotherapy was assessed by...  \n",
              "18  The dataset was compiled by Influence Health a...  \n",
              "19  Knowledge is acquired from various resources a...  \n",
              "20  In this work, we focus on the Decaf pre-traine...  \n",
              "21  Intel Galileo is an officially registered devi...  \n",
              "22  The \"Internet of Things\" (IoT) is a global sys...  \n",
              "23  The concept of 'personalised medicine' (PH) ca...  \n",
              "24  MPHC architecture gives specialized comfort th...  \n",
              "25  Sensor data exhibits all three characteristics...  \n",
              "26  In this paper, we examine four different machi...  \n",
              "27  In this paper various blood serum measurements...  \n",
              "28  Most state-of-the-art ML algorithms are based ...  \n",
              "29  This section includes the description of the d...  \n",
              "30  This dataset contains 768 patient records of P...  \n",
              "31  Deep learning techniques have shown promising ...  \n",
              "32  Total seventy radiomics features were calculat...  \n",
              "33  In the context of a health provider seeking to...  \n",
              "34  The proposed system uses the standard evaluati...  \n",
              "35  Our dataset consists of 443 frontal chest x-ra...  \n",
              "36  The proposed system is designed to send an ale...  \n",
              "37  This paper studies the u-healthcare system wit...  \n",
              "38  It is a challenge to ensure the dataset which ...  \n",
              "39  This article proposes a novel profound level o...  \n",
              "40  Wearable devices, mobile sensors, third party ...  \n",
              "41  In this paper, we present the predictive model...  \n",
              "42  MicroRNA's are small non-coding RNAs which hav...  \n",
              "43  The use of semantic datatypes is particularly ...  \n",
              "44  Support Vector Machine (SVM) has performed bet...  \n",
              "45  Predicting accuracy is the main evaluation par...  "
            ],
            "text/html": [
              "\n",
              "  <div id=\"df-b5c0ae60-35e1-4144-a953-cf1e2148c03a\">\n",
              "    <div class=\"colab-df-container\">\n",
              "      <div>\n",
              "<style scoped>\n",
              "    .dataframe tbody tr th:only-of-type {\n",
              "        vertical-align: middle;\n",
              "    }\n",
              "\n",
              "    .dataframe tbody tr th {\n",
              "        vertical-align: top;\n",
              "    }\n",
              "\n",
              "    .dataframe thead th {\n",
              "        text-align: right;\n",
              "    }\n",
              "</style>\n",
              "<table border=\"1\" class=\"dataframe\">\n",
              "  <thead>\n",
              "    <tr style=\"text-align: right;\">\n",
              "      <th></th>\n",
              "      <th>source_text</th>\n",
              "      <th>target_text</th>\n",
              "    </tr>\n",
              "  </thead>\n",
              "  <tbody>\n",
              "    <tr>\n",
              "      <th>0</th>\n",
              "      <td>summarize: We define a measure called success ...</td>\n",
              "      <td>The success rate computes the percentage of sy...</td>\n",
              "    </tr>\n",
              "    <tr>\n",
              "      <th>1</th>\n",
              "      <td>summarize: HEAD and neck cancer is among the m...</td>\n",
              "      <td>Accurate and robust GTV delineation allows for...</td>\n",
              "    </tr>\n",
              "    <tr>\n",
              "      <th>2</th>\n",
              "      <td>summarize: Positron emission tomography (PET) ...</td>\n",
              "      <td>Positron emission tomography (PET) with 2-deox...</td>\n",
              "    </tr>\n",
              "    <tr>\n",
              "      <th>3</th>\n",
              "      <td>summarize: The 2009 passage of the HITECH Act ...</td>\n",
              "      <td>Large Electronic Health Record (EHR) datasets ...</td>\n",
              "    </tr>\n",
              "    <tr>\n",
              "      <th>4</th>\n",
              "      <td>summarize: In this Big data era finding the hi...</td>\n",
              "      <td>The semantic web is next level in web which vi...</td>\n",
              "    </tr>\n",
              "    <tr>\n",
              "      <th>5</th>\n",
              "      <td>summarize: Chest radiographs are the most comm...</td>\n",
              "      <td>The most common findings in chest X-rays inclu...</td>\n",
              "    </tr>\n",
              "    <tr>\n",
              "      <th>6</th>\n",
              "      <td>summarize: IoT paves various approaches in hea...</td>\n",
              "      <td>Data is mounted up in real-time and at a swift...</td>\n",
              "    </tr>\n",
              "    <tr>\n",
              "      <th>7</th>\n",
              "      <td>summarize: In this paper we have presented the...</td>\n",
              "      <td>We have presented the u-healthcare system in t...</td>\n",
              "    </tr>\n",
              "    <tr>\n",
              "      <th>8</th>\n",
              "      <td>summarize: Internet of things and Machine Lear...</td>\n",
              "      <td>Internet of things and Machine Learning (ML) h...</td>\n",
              "    </tr>\n",
              "    <tr>\n",
              "      <th>9</th>\n",
              "      <td>summarize: The health foundations across the w...</td>\n",
              "      <td>The health foundations across the world has re...</td>\n",
              "    </tr>\n",
              "    <tr>\n",
              "      <th>10</th>\n",
              "      <td>summarize: Electronic health record (EHR) stor...</td>\n",
              "      <td>Electronic health record (EHR) stores electron...</td>\n",
              "    </tr>\n",
              "    <tr>\n",
              "      <th>11</th>\n",
              "      <td>summarize: Currently, kidney disease is a majo...</td>\n",
              "      <td>A computer-aided diagnosis implement based on ...</td>\n",
              "    </tr>\n",
              "    <tr>\n",
              "      <th>12</th>\n",
              "      <td>summarize: The use of machine learning in heal...</td>\n",
              "      <td>The use of machine learning in healthcare expl...</td>\n",
              "    </tr>\n",
              "    <tr>\n",
              "      <th>13</th>\n",
              "      <td>summarize: Data are not simply sets of numbers...</td>\n",
              "      <td>In healthcare, data can represent patient cond...</td>\n",
              "    </tr>\n",
              "    <tr>\n",
              "      <th>14</th>\n",
              "      <td>summarize: Health is always a priority even be...</td>\n",
              "      <td>The paper focuses on the prediction of the cri...</td>\n",
              "    </tr>\n",
              "    <tr>\n",
              "      <th>15</th>\n",
              "      <td>summarize: As the technology is advancing, dev...</td>\n",
              "      <td>As the technology is advancing, devices are ge...</td>\n",
              "    </tr>\n",
              "    <tr>\n",
              "      <th>16</th>\n",
              "      <td>summarize: The datasets consisted of 18F-FDG P...</td>\n",
              "      <td>The datasets consisted of 18F-FDG PET/CT image...</td>\n",
              "    </tr>\n",
              "    <tr>\n",
              "      <th>17</th>\n",
              "      <td>summarize: 18F-FDG PET image was acquired befo...</td>\n",
              "      <td>The efficiency of chemotherapy was assessed by...</td>\n",
              "    </tr>\n",
              "    <tr>\n",
              "      <th>18</th>\n",
              "      <td>summarize: The dataset was compiled by Influen...</td>\n",
              "      <td>The dataset was compiled by Influence Health a...</td>\n",
              "    </tr>\n",
              "    <tr>\n",
              "      <th>19</th>\n",
              "      <td>summarize: Knowledge is acquired from various ...</td>\n",
              "      <td>Knowledge is acquired from various resources a...</td>\n",
              "    </tr>\n",
              "    <tr>\n",
              "      <th>20</th>\n",
              "      <td>summarize: CNNs constitute a feed-forward fami...</td>\n",
              "      <td>In this work, we focus on the Decaf pre-traine...</td>\n",
              "    </tr>\n",
              "    <tr>\n",
              "      <th>21</th>\n",
              "      <td>summarize: The IoT system architecture for the...</td>\n",
              "      <td>Intel Galileo is an officially registered devi...</td>\n",
              "    </tr>\n",
              "    <tr>\n",
              "      <th>22</th>\n",
              "      <td>summarize: The IoT can be used in clinical car...</td>\n",
              "      <td>The \"Internet of Things\" (IoT) is a global sys...</td>\n",
              "    </tr>\n",
              "    <tr>\n",
              "      <th>23</th>\n",
              "      <td>summarize: The current practice in medicine is...</td>\n",
              "      <td>The concept of 'personalised medicine' (PH) ca...</td>\n",
              "    </tr>\n",
              "    <tr>\n",
              "      <th>24</th>\n",
              "      <td>summarize: MPHC architecture gives specialized...</td>\n",
              "      <td>MPHC architecture gives specialized comfort th...</td>\n",
              "    </tr>\n",
              "    <tr>\n",
              "      <th>25</th>\n",
              "      <td>summarize: The Sensor data exhibits all three ...</td>\n",
              "      <td>Sensor data exhibits all three characteristics...</td>\n",
              "    </tr>\n",
              "    <tr>\n",
              "      <th>26</th>\n",
              "      <td>summarize: Machine Learning Algorithm\\nA. K-ne...</td>\n",
              "      <td>In this paper, we examine four different machi...</td>\n",
              "    </tr>\n",
              "    <tr>\n",
              "      <th>27</th>\n",
              "      <td>summarize: The overall system architecture of ...</td>\n",
              "      <td>In this paper various blood serum measurements...</td>\n",
              "    </tr>\n",
              "    <tr>\n",
              "      <th>28</th>\n",
              "      <td>summarize: Although Stevens’ attribute types a...</td>\n",
              "      <td>Most state-of-the-art ML algorithms are based ...</td>\n",
              "    </tr>\n",
              "    <tr>\n",
              "      <th>29</th>\n",
              "      <td>summarize: This section includes the methodolo...</td>\n",
              "      <td>This section includes the description of the d...</td>\n",
              "    </tr>\n",
              "    <tr>\n",
              "      <th>30</th>\n",
              "      <td>summarize: This research paper uses openly ava...</td>\n",
              "      <td>This dataset contains 768 patient records of P...</td>\n",
              "    </tr>\n",
              "    <tr>\n",
              "      <th>31</th>\n",
              "      <td>summarize: Deep learning techniques, in partic...</td>\n",
              "      <td>Deep learning techniques have shown promising ...</td>\n",
              "    </tr>\n",
              "    <tr>\n",
              "      <th>32</th>\n",
              "      <td>summarize: Total seventy radiomics features we...</td>\n",
              "      <td>Total seventy radiomics features were calculat...</td>\n",
              "    </tr>\n",
              "    <tr>\n",
              "      <th>33</th>\n",
              "      <td>summarize: In the context of a health provider...</td>\n",
              "      <td>In the context of a health provider seeking to...</td>\n",
              "    </tr>\n",
              "    <tr>\n",
              "      <th>34</th>\n",
              "      <td>summarize: The evaluation of proposed system a...</td>\n",
              "      <td>The proposed system uses the standard evaluati...</td>\n",
              "    </tr>\n",
              "    <tr>\n",
              "      <th>35</th>\n",
              "      <td>summarize: Our dataset consists of 443 frontal...</td>\n",
              "      <td>Our dataset consists of 443 frontal chest x-ra...</td>\n",
              "    </tr>\n",
              "    <tr>\n",
              "      <th>36</th>\n",
              "      <td>summarize: The patient is made to press the he...</td>\n",
              "      <td>The proposed system is designed to send an ale...</td>\n",
              "    </tr>\n",
              "    <tr>\n",
              "      <th>37</th>\n",
              "      <td>summarize: The IoT can be used in clinical car...</td>\n",
              "      <td>This paper studies the u-healthcare system wit...</td>\n",
              "    </tr>\n",
              "    <tr>\n",
              "      <th>38</th>\n",
              "      <td>summarize: Machine learning largely depends on...</td>\n",
              "      <td>It is a challenge to ensure the dataset which ...</td>\n",
              "    </tr>\n",
              "    <tr>\n",
              "      <th>39</th>\n",
              "      <td>summarize: These days, the checking of unfortu...</td>\n",
              "      <td>This article proposes a novel profound level o...</td>\n",
              "    </tr>\n",
              "    <tr>\n",
              "      <th>40</th>\n",
              "      <td>summarize: Wearable devices, mobile sensors, t...</td>\n",
              "      <td>Wearable devices, mobile sensors, third party ...</td>\n",
              "    </tr>\n",
              "    <tr>\n",
              "      <th>41</th>\n",
              "      <td>summarize: The results of four machine learnin...</td>\n",
              "      <td>In this paper, we present the predictive model...</td>\n",
              "    </tr>\n",
              "    <tr>\n",
              "      <th>42</th>\n",
              "      <td>summarize: The combination of different types ...</td>\n",
              "      <td>MicroRNA's are small non-coding RNAs which hav...</td>\n",
              "    </tr>\n",
              "    <tr>\n",
              "      <th>43</th>\n",
              "      <td>summarize: This paper discussed semantic data ...</td>\n",
              "      <td>The use of semantic datatypes is particularly ...</td>\n",
              "    </tr>\n",
              "    <tr>\n",
              "      <th>44</th>\n",
              "      <td>summarize: This section discusses the overall ...</td>\n",
              "      <td>Support Vector Machine (SVM) has performed bet...</td>\n",
              "    </tr>\n",
              "    <tr>\n",
              "      <th>45</th>\n",
              "      <td>summarize: In this experimental study, six mac...</td>\n",
              "      <td>Predicting accuracy is the main evaluation par...</td>\n",
              "    </tr>\n",
              "  </tbody>\n",
              "</table>\n",
              "</div>\n",
              "      <button class=\"colab-df-convert\" onclick=\"convertToInteractive('df-b5c0ae60-35e1-4144-a953-cf1e2148c03a')\"\n",
              "              title=\"Convert this dataframe to an interactive table.\"\n",
              "              style=\"display:none;\">\n",
              "        \n",
              "  <svg xmlns=\"http://www.w3.org/2000/svg\" height=\"24px\"viewBox=\"0 0 24 24\"\n",
              "       width=\"24px\">\n",
              "    <path d=\"M0 0h24v24H0V0z\" fill=\"none\"/>\n",
              "    <path d=\"M18.56 5.44l.94 2.06.94-2.06 2.06-.94-2.06-.94-.94-2.06-.94 2.06-2.06.94zm-11 1L8.5 8.5l.94-2.06 2.06-.94-2.06-.94L8.5 2.5l-.94 2.06-2.06.94zm10 10l.94 2.06.94-2.06 2.06-.94-2.06-.94-.94-2.06-.94 2.06-2.06.94z\"/><path d=\"M17.41 7.96l-1.37-1.37c-.4-.4-.92-.59-1.43-.59-.52 0-1.04.2-1.43.59L10.3 9.45l-7.72 7.72c-.78.78-.78 2.05 0 2.83L4 21.41c.39.39.9.59 1.41.59.51 0 1.02-.2 1.41-.59l7.78-7.78 2.81-2.81c.8-.78.8-2.07 0-2.86zM5.41 20L4 18.59l7.72-7.72 1.47 1.35L5.41 20z\"/>\n",
              "  </svg>\n",
              "      </button>\n",
              "      \n",
              "  <style>\n",
              "    .colab-df-container {\n",
              "      display:flex;\n",
              "      flex-wrap:wrap;\n",
              "      gap: 12px;\n",
              "    }\n",
              "\n",
              "    .colab-df-convert {\n",
              "      background-color: #E8F0FE;\n",
              "      border: none;\n",
              "      border-radius: 50%;\n",
              "      cursor: pointer;\n",
              "      display: none;\n",
              "      fill: #1967D2;\n",
              "      height: 32px;\n",
              "      padding: 0 0 0 0;\n",
              "      width: 32px;\n",
              "    }\n",
              "\n",
              "    .colab-df-convert:hover {\n",
              "      background-color: #E2EBFA;\n",
              "      box-shadow: 0px 1px 2px rgba(60, 64, 67, 0.3), 0px 1px 3px 1px rgba(60, 64, 67, 0.15);\n",
              "      fill: #174EA6;\n",
              "    }\n",
              "\n",
              "    [theme=dark] .colab-df-convert {\n",
              "      background-color: #3B4455;\n",
              "      fill: #D2E3FC;\n",
              "    }\n",
              "\n",
              "    [theme=dark] .colab-df-convert:hover {\n",
              "      background-color: #434B5C;\n",
              "      box-shadow: 0px 1px 3px 1px rgba(0, 0, 0, 0.15);\n",
              "      filter: drop-shadow(0px 1px 2px rgba(0, 0, 0, 0.3));\n",
              "      fill: #FFFFFF;\n",
              "    }\n",
              "  </style>\n",
              "\n",
              "      <script>\n",
              "        const buttonEl =\n",
              "          document.querySelector('#df-b5c0ae60-35e1-4144-a953-cf1e2148c03a button.colab-df-convert');\n",
              "        buttonEl.style.display =\n",
              "          google.colab.kernel.accessAllowed ? 'block' : 'none';\n",
              "\n",
              "        async function convertToInteractive(key) {\n",
              "          const element = document.querySelector('#df-b5c0ae60-35e1-4144-a953-cf1e2148c03a');\n",
              "          const dataTable =\n",
              "            await google.colab.kernel.invokeFunction('convertToInteractive',\n",
              "                                                     [key], {});\n",
              "          if (!dataTable) return;\n",
              "\n",
              "          const docLinkHtml = 'Like what you see? Visit the ' +\n",
              "            '<a target=\"_blank\" href=https://colab.research.google.com/notebooks/data_table.ipynb>data table notebook</a>'\n",
              "            + ' to learn more about interactive tables.';\n",
              "          element.innerHTML = '';\n",
              "          dataTable['output_type'] = 'display_data';\n",
              "          await google.colab.output.renderOutput(dataTable, element);\n",
              "          const docLink = document.createElement('div');\n",
              "          docLink.innerHTML = docLinkHtml;\n",
              "          element.appendChild(docLink);\n",
              "        }\n",
              "      </script>\n",
              "    </div>\n",
              "  </div>\n",
              "  "
            ]
          },
          "metadata": {},
          "execution_count": 5
        }
      ],
      "source": [
        "# simpleT5 expects dataframe to have 2 columns: \"source_text\" and \"target_text\"\n",
        "df = df.rename(columns={\"introductionOrginal\":\"source_text\", \"introduction\":\"target_text\"})\n",
        "df = df[['source_text', 'target_text']]\n",
        "\n",
        "# T5 model expects a task related prefix: since it is a summarization task, we will add a prefix \"summarize: \"\n",
        "df['source_text'] = \"summarize: \" + df['source_text']\n",
        "df\n"
      ]
    },
    {
      "cell_type": "code",
      "execution_count": null,
      "metadata": {
        "id": "TUEBo4ADeFXn"
      },
      "outputs": [],
      "source": [
        "train, test = train_test_split(df, test_size=0.2, random_state=42)\n",
        "train, valid = train_test_split(train, test_size=0.2, random_state=42)"
      ]
    },
    {
      "cell_type": "code",
      "execution_count": null,
      "metadata": {
        "id": "_tLLdOPGl7gv",
        "colab": {
          "base_uri": "https://localhost:8080/"
        },
        "outputId": "740db465-7e8e-4351-bb75-53a8e46baf7e"
      },
      "outputs": [
        {
          "output_type": "execute_result",
          "data": {
            "text/plain": [
              "((36, 2), (10, 2))"
            ]
          },
          "metadata": {},
          "execution_count": 7
        }
      ],
      "source": [
        "train_df, test_df = train_test_split(df, test_size=0.2)\n",
        "train_df.shape, test_df.shape"
      ]
    },
    {
      "cell_type": "code",
      "execution_count": null,
      "metadata": {
        "id": "zWE4rl2vhaLZ",
        "colab": {
          "base_uri": "https://localhost:8080/",
          "height": 162,
          "referenced_widgets": [
            "2d940b1bbaec43cd9d1a478d15f08e9a",
            "3ab158e6908948d79c9d577ed60f000b",
            "3290202b3f2b4ab5a72300d96ce39288",
            "22ea2bb15dc546f8a75beae5fe5dfeed",
            "69840d808f82408ba55abc8dd9f00c07",
            "aa6fa4801a714fbe91c3aeab62b61096",
            "19cfba7978a24b879c772487b33e7473",
            "9a7fe7a892654fcf82eee2489fa8b359",
            "347fe0b1efa740a7992174bda91d482a",
            "b6c39c33c9134be09f184110a8015980",
            "5f5df95ee82841d5b59affd4e9b97c72",
            "60b43a2660b54135a357f54ecad1ae75",
            "7d2125602a234b029e8c53ff6c3e4af7",
            "3498be98e8fb42709f7434c110aef6c3",
            "6db149aba1604eaa8b65961263b3020a",
            "762a8fe5d9b749fb8e0ab00d68dcf830",
            "60ccccb1b4214d50bbbfc6fed5584521",
            "253e8d7df0154ff39f2cc1c0acce04ff",
            "14e8ee8688534f2ca4023732f1ef87f5",
            "6eb7cf3846144e079f00cefe13dc5137",
            "dc26c9deffdb410e8f4aa8c5aff44ed4",
            "4f7f3110dfd0414b8b17520457a7bd8f",
            "d9406e0ced61412eb36306ebcbfdcbf2",
            "dd4ff42ad0404866b47e68992d600945",
            "b3a5dc524bd34673966182fd33356215",
            "57ca4a52b4744dcd9fe3add7ae8b2bbc",
            "b8b18564b8104d4c87ae14041f8650cd",
            "8fbc650f8def4f3c8af664550c597e83",
            "ccd043b49ed2445f82624d2952b5f1f0",
            "f5eb1b1e18674955947eafc66f8f7168",
            "eece35be653a499982cca59e6d705942",
            "e79755e3d9d04f069fcdfd8270b2a2d2",
            "28791de6bfe34cba84a1958d302d2807",
            "dfc83e61a3ec465489c44068ad3d57d8",
            "b74c736bd87344ec895c6ecd517ff187",
            "0aaf0dd532b14a66936e8b1373bcba89",
            "b991bb7fc7ec45a99ca0ec25030531b2",
            "7643eb17f9c0406590155d1f0dda38fd",
            "6ada0ebfdb1c4730a4df4a98f571fa05",
            "d13c4e1bc0294980838946712e2fe6d7",
            "297a404cc97944bdaae6dcfb26605219",
            "15e0172ac7614798915923a28fd4367d",
            "b8d5818f99e944ff88240e1152728861",
            "730abe7e5f1b49048c8bd7deb80c384a"
          ]
        },
        "outputId": "712f9033-58fb-45df-8df8-1e4d2c37114b"
      },
      "outputs": [
        {
          "output_type": "stream",
          "name": "stderr",
          "text": [
            "INFO:pytorch_lightning.utilities.seed:Global seed set to 42\n"
          ]
        },
        {
          "output_type": "display_data",
          "data": {
            "text/plain": [
              "Downloading:   0%|          | 0.00/773k [00:00<?, ?B/s]"
            ],
            "application/vnd.jupyter.widget-view+json": {
              "version_major": 2,
              "version_minor": 0,
              "model_id": "2d940b1bbaec43cd9d1a478d15f08e9a"
            }
          },
          "metadata": {}
        },
        {
          "output_type": "display_data",
          "data": {
            "text/plain": [
              "Downloading:   0%|          | 0.00/1.32M [00:00<?, ?B/s]"
            ],
            "application/vnd.jupyter.widget-view+json": {
              "version_major": 2,
              "version_minor": 0,
              "model_id": "60b43a2660b54135a357f54ecad1ae75"
            }
          },
          "metadata": {}
        },
        {
          "output_type": "display_data",
          "data": {
            "text/plain": [
              "Downloading:   0%|          | 0.00/1.17k [00:00<?, ?B/s]"
            ],
            "application/vnd.jupyter.widget-view+json": {
              "version_major": 2,
              "version_minor": 0,
              "model_id": "d9406e0ced61412eb36306ebcbfdcbf2"
            }
          },
          "metadata": {}
        },
        {
          "output_type": "display_data",
          "data": {
            "text/plain": [
              "Downloading:   0%|          | 0.00/850M [00:00<?, ?B/s]"
            ],
            "application/vnd.jupyter.widget-view+json": {
              "version_major": 2,
              "version_minor": 0,
              "model_id": "dfc83e61a3ec465489c44068ad3d57d8"
            }
          },
          "metadata": {}
        }
      ],
      "source": [
        "from simplet5 import SimpleT5\n",
        "\n",
        "model = SimpleT5()\n",
        "model.from_pretrained(model_type=\"t5\", model_name=\"t5-base\")\n",
        "# model.train(train_df=train_df,\n",
        "#             eval_df=test_df, \n",
        "#             source_max_token_len=128, \n",
        "#             target_max_token_len=50, \n",
        "#             batch_size=8, \n",
        "#             max_epochs=50, \n",
        "#             use_gpu=True\n",
        "#            )"
      ]
    },
    {
      "cell_type": "code",
      "execution_count": null,
      "metadata": {
        "id": "EFTjNW8N-rpc"
      },
      "outputs": [],
      "source": [
        "Research_Paper='/content/drive/MyDrive/ColabNotebooks/data/A0-1043.xml'"
      ]
    },
    {
      "cell_type": "code",
      "execution_count": null,
      "metadata": {
        "id": "t3rZ8_Pn-tyn"
      },
      "outputs": [],
      "source": [
        "import xml.etree.ElementTree as ET"
      ]
    },
    {
      "cell_type": "code",
      "execution_count": null,
      "metadata": {
        "id": "pacGNrmT-2u_"
      },
      "outputs": [],
      "source": [
        "myfile=ET.parse(Research_Paper)"
      ]
    },
    {
      "cell_type": "code",
      "execution_count": null,
      "metadata": {
        "id": "eg9JrxZh-5K2"
      },
      "outputs": [],
      "source": [
        "mystart=myfile.getroot()"
      ]
    },
    {
      "cell_type": "code",
      "execution_count": null,
      "metadata": {
        "id": "GUaQxVUB-8Cq",
        "colab": {
          "base_uri": "https://localhost:8080/",
          "height": 35
        },
        "outputId": "fc278662-32ca-4df5-fd42-fa4e33f45787"
      },
      "outputs": [
        {
          "output_type": "execute_result",
          "data": {
            "text/plain": [
              "'PAPER'"
            ],
            "application/vnd.google.colaboratory.intrinsic+json": {
              "type": "string"
            }
          },
          "metadata": {},
          "execution_count": 13
        }
      ],
      "source": [
        "mystart.tag"
      ]
    },
    {
      "cell_type": "code",
      "execution_count": null,
      "metadata": {
        "colab": {
          "base_uri": "https://localhost:8080/"
        },
        "outputId": "4d275f37-791d-4374-d0a2-b7eac10e55ab",
        "id": "845Ht0Q9-uZv"
      },
      "outputs": [
        {
          "output_type": "execute_result",
          "data": {
            "text/plain": [
              "{}"
            ]
          },
          "metadata": {},
          "execution_count": 14
        }
      ],
      "source": [
        "mystart[1].attrib"
      ]
    },
    {
      "cell_type": "code",
      "execution_count": null,
      "metadata": {
        "colab": {
          "base_uri": "https://localhost:8080/",
          "height": 35
        },
        "outputId": "e3fc3fe3-a1de-4066-9e5d-b15a746cab41",
        "id": "3cOx4mL9-uZ5"
      },
      "outputs": [
        {
          "output_type": "execute_result",
          "data": {
            "text/plain": [
              "'ABSTRACT'"
            ],
            "application/vnd.google.colaboratory.intrinsic+json": {
              "type": "string"
            }
          },
          "metadata": {},
          "execution_count": 15
        }
      ],
      "source": [
        "mystart[1].tag"
      ]
    },
    {
      "cell_type": "code",
      "execution_count": null,
      "metadata": {
        "colab": {
          "base_uri": "https://localhost:8080/"
        },
        "outputId": "247a3ad7-ca0d-4c79-879d-974abf4bf83b",
        "id": "6JReUsAb-uZ5"
      },
      "outputs": [
        {
          "output_type": "stream",
          "name": "stdout",
          "text": [
            "S {'sid': '1', 'ssid': '1'}\n",
            "S {'sid': '2', 'ssid': '2'}\n",
            "S {'sid': '3', 'ssid': '3'}\n",
            "S {'sid': '4', 'ssid': '4'}\n",
            "S {'sid': '5', 'ssid': '5'}\n",
            "S {'sid': '6', 'ssid': '6'}\n",
            "S {'sid': '7', 'ssid': '7'}\n",
            "S {'sid': '8', 'ssid': '8'}\n",
            "S {'sid': '9', 'ssid': '9'}\n",
            "S {'sid': '10', 'ssid': '10'}\n",
            "S {'sid': '11', 'ssid': '11'}\n",
            "S {'sid': '12', 'ssid': '12'}\n",
            "S {'sid': '13', 'ssid': '13'}\n",
            "S {'sid': '14', 'ssid': '14'}\n",
            "S {'sid': '15', 'ssid': '15'}\n",
            "S {'sid': '16', 'ssid': '16'}\n",
            "S {'sid': '17', 'ssid': '17'}\n",
            "S {'sid': '18', 'ssid': '18'}\n",
            "S {'sid': '19', 'ssid': '19'}\n",
            "S {'sid': '20', 'ssid': '20'}\n",
            "S {'sid': '21', 'ssid': '21'}\n",
            "S {'sid': '22', 'ssid': '22'}\n",
            "S {'sid': '23', 'ssid': '23'}\n",
            "S {'sid': '24', 'ssid': '24'}\n",
            "S {'sid': '25', 'ssid': '25'}\n",
            "S {'sid': '26', 'ssid': '26'}\n",
            "S {'sid': '27', 'ssid': '27'}\n",
            "S {'sid': '28', 'ssid': '28'}\n",
            "S {'sid': '29', 'ssid': '29'}\n",
            "S {'sid': '30', 'ssid': '30'}\n",
            "S {'sid': '31', 'ssid': '31'}\n",
            "S {'sid': '32', 'ssid': '32'}\n",
            "S {'sid': '33', 'ssid': '33'}\n",
            "S {'sid': '34', 'ssid': '34'}\n",
            "S {'sid': '35', 'ssid': '35'}\n",
            "S {'sid': '36', 'ssid': '36'}\n",
            "S {'sid': '37', 'ssid': '37'}\n",
            "S {'sid': '38', 'ssid': '38'}\n",
            "S {'sid': '39', 'ssid': '39'}\n",
            "S {'sid': '40', 'ssid': '40'}\n",
            "S {'sid': '41', 'ssid': '41'}\n",
            "S {'sid': '42', 'ssid': '42'}\n",
            "S {'sid': '43', 'ssid': '43'}\n",
            "S {'sid': '44', 'ssid': '44'}\n",
            "S {'sid': '45', 'ssid': '45'}\n",
            "S {'sid': '46', 'ssid': '46'}\n",
            "S {'sid': '47', 'ssid': '47'}\n",
            "S {'sid': '48', 'ssid': '48'}\n",
            "S {'sid': '49', 'ssid': '49'}\n",
            "S {'sid': '50', 'ssid': '50'}\n",
            "S {'sid': '51', 'ssid': '51'}\n",
            "S {'sid': '52', 'ssid': '52'}\n"
          ]
        }
      ],
      "source": [
        "for x in mystart[1]:\n",
        "  print(x.tag,x.attrib)"
      ]
    },
    {
      "cell_type": "code",
      "execution_count": null,
      "metadata": {
        "id": "BpAAo9x3-uZ6"
      },
      "outputs": [],
      "source": [
        "summaryText1=[]\n",
        "summaryText1.append(\"summarize: \")\n",
        "for x in mystart[1]:\n",
        "  summaryText1.append(x.text)"
      ]
    },
    {
      "cell_type": "code",
      "execution_count": null,
      "metadata": {
        "colab": {
          "base_uri": "https://localhost:8080/"
        },
        "outputId": "bad49c01-272c-4221-e5cf-a55ac7300420",
        "id": "RQogpTTO-uZ7"
      },
      "outputs": [
        {
          "output_type": "execute_result",
          "data": {
            "text/plain": [
              "['summarize: ',\n",
              " 'Figure 2: Sample sentence and parse tree we have an input sentence (ABCDEhas a parse tree shown in Figure 2. a human reduces the sentence to which can be translated to a series of decisions made along edges in the sentence parse tree as shown in Figure 3.',\n",
              " 'The symbol &quot;y&quot; along an edge means the node it points to will be kept, and &quot;n&quot; means the node will be removed.',\n",
              " 'Suppose the program reduces sentence to can be translated similarly to the annotated tree shown in Figure 4.',\n",
              " 'Figure 4: Reduced form by the program We can see that along five edges (they are D—)T, D—*G, B-4A, B—>C), both the human and the program made decisions.',\n",
              " 'Two out of the five decisions agree (they are D--÷B and D—>E), so the rate is 2/5 (40%).',\n",
              " 'The rate defined as: man and the program have made the same decision success rate = the total # of edges along which both the human and the progam have made decisions 313 Note that the edges along which only the human or the program has made a decision (e.g., G--F and G—.>F in Figure 3 and Figure 4) are not considered in the computation of success rate, since there is no agreement issue in such cases.',\n",
              " '3.2 Evaluation result In the evaluation, we used 400 sentences in the corpus to compute the probabilities that a phrase is removed, reduced, or unchanged.',\n",
              " 'We tested the program on the rest 100 sentences.',\n",
              " 'Using five-fold validation (i.e., chose different 100 sentences for testing each time and repeating the experiment five times), The program achieved an average success rate of 81.3%.',\n",
              " 'If we consider the baseline as removing all the prepositional phrases, clauses, to-infinitives and gerunds, the baseline performance is 43.2%.',\n",
              " \"We also computed the success rate of program's decisions on particular types of phrases.\",\n",
              " 'For the decisions on removing or keeping a clause, the system has a success rate of 78.1%; for the decisions on removing or keeping a to-infinitive, the system has a success rate of 85.2%.',\n",
              " 'We found out that the system has a low success rate on removing adjectives of noun phrases or removing adverbs of a sentence or a verb phrase.',\n",
              " 'One reason for this is that our probability model can hardly capture the dependencies between a particular adjective and the head noun since the training corpus is not large enough, while the other sources of information, including grammar or context information, provide little evidence on whether an adjective or an adverb should be removed.',\n",
              " 'Given that whether or not an adjective or an adverb is removed does not affect the conciseness of the sentence significantly and the system lacks of reliability in making such decisions, we decide not to remove adjectives and adverbs.',\n",
              " 'On average, the system reduced the length of the 500 sentence by 32.7% (based on the number of words), while humans reduced it by 41.8%.',\n",
              " 'The probabilities we computed from the training corpus covered 58% of instances in the test corpus.',\n",
              " 'When the corpus probability is absent for a case, the system makes decisions based on the other two sources of knowledge.',\n",
              " 'Some of the errors made by the system result from the errors by the syntactic parser.',\n",
              " 'We randomly checked 50 sentences, and found that 8% of the errors made by the system are due to parsing errors.',\n",
              " 'There are two main reasons responsible for this relative low percentage of errors resulted from mistakes in parsing.',\n",
              " 'One reason is that we have taken some special measures to avoid errors introduced by mistakes in parsing.',\n",
              " 'For example, PP attachment is a difficult problem in parsing and it is not rare that a PP is wrongly attached.',\n",
              " 'Therefore, we take this into account when marking the obligatory components using subcategorization knowledge from the lexicon (step 2) — we not only look at the PPs that are attached to a verb phrase, but also PPs that are next to the verb phrase but not attached, in case it is part of the verb phrase.',\n",
              " 'We also wrote a preprocessor to deal with particular structures that the parser often has problems with, such as appositions.',\n",
              " 'The other reason is that parsing errors do not always result in reduction errors.',\n",
              " 'For example, given a sentence &quot;The spokesperson of the University said that ...&quot;, although that-clause in the sentence may have a complicated structure and the parser gets it wrong, the reduction system is not necessarily affected since it may decide in this case to keep that-clause as it is, as humans often do, so the parsing errors will not matter in this example.',\n",
              " '4 Discussion and related work The reduction algorithm we present assumes generic summarization; that is, we want to generate a summary that includes the most important information in an article.',\n",
              " 'We can tailor the reduction system to queries-based summarization.',\n",
              " \"In that case, the task of the reduction is not to remove phrases that are extraneous in terms of the main topic of an article, but phrases that are not very relevant to users' queries.\",\n",
              " \"We extended our sentence reduction program to query-based summarization by adding another step in the algorithm to measure the relevance of users' queries to phrases in the sentence.\",\n",
              " 'In the last step of reduction when the system makes the final decision, the relevance of a phrase to the query is taken into account, together with syntactic, context, and corpus information.',\n",
              " 'Ideally, the sentence reduction module should interact with other modules in a summarization system.',\n",
              " 'It should be able to send feedback to the extraction module if it finds that a sentence selected by the extraction module may be inappropriate (for example, having a very low context importance score).',\n",
              " 'It should also be able to interact with the modules that run after it, such as the sentence combination module, so that it can revise reduction decisions according to the feedback from these modules.',\n",
              " 'Some researchers suggested removing phrases or clauses from sentences for certain applications.',\n",
              " '(Grefenstette, 1998) proposed to remove phrases in sentences to produce a telegraphic text that can be used to provide audio scanning service for the blind.',\n",
              " '(Corston-Oliver and Dolan, 1999) proposed to remove clauses in sentences before indexing documents for Information Retrieval.',\n",
              " 'Both studies removed phrases based only on their syntactic categories, while the focus of our system is on deciding when it is appropriate to remove a phrase. researchers worked on the text simplifica- 314 tion problem, which usually involves in simplifying text but not removing any phrases.',\n",
              " 'For example, (Carroll et al., 1998) discussed simplifying newspaper text by replacing uncommon words with common words, or replacing complicated syntactic structures with simpler structures to assist people with reading disabilities.',\n",
              " '(Chandrasekar et al., 1996) discussed text simplification in general.',\n",
              " 'The difference between these studies on text simplification and our system is that a text simplification system usually not from an original sentence, although it may change its structure or words, but our system removes extraneous phrases from the extracted sentences.',\n",
              " '5 Conclusions and future work We present a novel sentence reduction system which removes extraneous phrases from sentences that are extracted from an article in text summarization.',\n",
              " 'The deleted phrases can be prepositional phrases, clauses, to-infinitives, or gerunds, and multiple phrases can be removed form a single sentence.',\n",
              " 'The focus of this work is on determining, for a sentence in a particular context, which phrases in the sentence are less important and can be removed.',\n",
              " 'Our system makes intelligent reduction decisions based on multiple sources of knowledge, including syntactic knowledge, context, and probabilities computed from corpus analysis.',\n",
              " 'We also created a corpus consisting of 500 sentences and their reduced forms produced by human professionals, and used this corpus for training and testing the system.',\n",
              " 'The evaluation shows that 81.3% of reduction decisions made by the system agreed with those of humans.',\n",
              " 'In the future, we would like to integrate our sentence reduction system with extraction-based summarization systems other than the one we have developed, improve the performance of the system further by introducing other sources of knowledge necessary for reduction, and explore other interesting applications of the reduction system.',\n",
              " 'Acknowledgment This material is based upon work supported by the National Science Foundation under Grant No.',\n",
              " 'IRI 96-19124 and IRI 96-18797.',\n",
              " 'Any opinions, findings, and conclusions or recommendations expressed in this material are those of the authors and do not']"
            ]
          },
          "metadata": {},
          "execution_count": 18
        }
      ],
      "source": [
        "summaryText1"
      ]
    },
    {
      "cell_type": "code",
      "execution_count": null,
      "metadata": {
        "id": "74fgPuKE-uZ7"
      },
      "outputs": [],
      "source": [
        "listToStr1=''.join([str(elem) for i,elem in enumerate(summaryText1)])"
      ]
    },
    {
      "cell_type": "code",
      "execution_count": null,
      "metadata": {
        "colab": {
          "base_uri": "https://localhost:8080/",
          "height": 140
        },
        "outputId": "bc2f635c-63da-45cf-acc1-381162b5071c",
        "id": "R1GGVj_B-uZ7"
      },
      "outputs": [
        {
          "output_type": "execute_result",
          "data": {
            "text/plain": [
              "\"summarize: Figure 2: Sample sentence and parse tree we have an input sentence (ABCDEhas a parse tree shown in Figure 2. a human reduces the sentence to which can be translated to a series of decisions made along edges in the sentence parse tree as shown in Figure 3.The symbol &quot;y&quot; along an edge means the node it points to will be kept, and &quot;n&quot; means the node will be removed.Suppose the program reduces sentence to can be translated similarly to the annotated tree shown in Figure 4.Figure 4: Reduced form by the program We can see that along five edges (they are D—)T, D—*G, B-4A, B—>C), both the human and the program made decisions.Two out of the five decisions agree (they are D--÷B and D—>E), so the rate is 2/5 (40%).The rate defined as: man and the program have made the same decision success rate = the total # of edges along which both the human and the progam have made decisions 313 Note that the edges along which only the human or the program has made a decision (e.g., G--F and G—.>F in Figure 3 and Figure 4) are not considered in the computation of success rate, since there is no agreement issue in such cases.3.2 Evaluation result In the evaluation, we used 400 sentences in the corpus to compute the probabilities that a phrase is removed, reduced, or unchanged.We tested the program on the rest 100 sentences.Using five-fold validation (i.e., chose different 100 sentences for testing each time and repeating the experiment five times), The program achieved an average success rate of 81.3%.If we consider the baseline as removing all the prepositional phrases, clauses, to-infinitives and gerunds, the baseline performance is 43.2%.We also computed the success rate of program's decisions on particular types of phrases.For the decisions on removing or keeping a clause, the system has a success rate of 78.1%; for the decisions on removing or keeping a to-infinitive, the system has a success rate of 85.2%.We found out that the system has a low success rate on removing adjectives of noun phrases or removing adverbs of a sentence or a verb phrase.One reason for this is that our probability model can hardly capture the dependencies between a particular adjective and the head noun since the training corpus is not large enough, while the other sources of information, including grammar or context information, provide little evidence on whether an adjective or an adverb should be removed.Given that whether or not an adjective or an adverb is removed does not affect the conciseness of the sentence significantly and the system lacks of reliability in making such decisions, we decide not to remove adjectives and adverbs.On average, the system reduced the length of the 500 sentence by 32.7% (based on the number of words), while humans reduced it by 41.8%.The probabilities we computed from the training corpus covered 58% of instances in the test corpus.When the corpus probability is absent for a case, the system makes decisions based on the other two sources of knowledge.Some of the errors made by the system result from the errors by the syntactic parser.We randomly checked 50 sentences, and found that 8% of the errors made by the system are due to parsing errors.There are two main reasons responsible for this relative low percentage of errors resulted from mistakes in parsing.One reason is that we have taken some special measures to avoid errors introduced by mistakes in parsing.For example, PP attachment is a difficult problem in parsing and it is not rare that a PP is wrongly attached.Therefore, we take this into account when marking the obligatory components using subcategorization knowledge from the lexicon (step 2) — we not only look at the PPs that are attached to a verb phrase, but also PPs that are next to the verb phrase but not attached, in case it is part of the verb phrase.We also wrote a preprocessor to deal with particular structures that the parser often has problems with, such as appositions.The other reason is that parsing errors do not always result in reduction errors.For example, given a sentence &quot;The spokesperson of the University said that ...&quot;, although that-clause in the sentence may have a complicated structure and the parser gets it wrong, the reduction system is not necessarily affected since it may decide in this case to keep that-clause as it is, as humans often do, so the parsing errors will not matter in this example.4 Discussion and related work The reduction algorithm we present assumes generic summarization; that is, we want to generate a summary that includes the most important information in an article.We can tailor the reduction system to queries-based summarization.In that case, the task of the reduction is not to remove phrases that are extraneous in terms of the main topic of an article, but phrases that are not very relevant to users' queries.We extended our sentence reduction program to query-based summarization by adding another step in the algorithm to measure the relevance of users' queries to phrases in the sentence.In the last step of reduction when the system makes the final decision, the relevance of a phrase to the query is taken into account, together with syntactic, context, and corpus information.Ideally, the sentence reduction module should interact with other modules in a summarization system.It should be able to send feedback to the extraction module if it finds that a sentence selected by the extraction module may be inappropriate (for example, having a very low context importance score).It should also be able to interact with the modules that run after it, such as the sentence combination module, so that it can revise reduction decisions according to the feedback from these modules.Some researchers suggested removing phrases or clauses from sentences for certain applications.(Grefenstette, 1998) proposed to remove phrases in sentences to produce a telegraphic text that can be used to provide audio scanning service for the blind.(Corston-Oliver and Dolan, 1999) proposed to remove clauses in sentences before indexing documents for Information Retrieval.Both studies removed phrases based only on their syntactic categories, while the focus of our system is on deciding when it is appropriate to remove a phrase. researchers worked on the text simplifica- 314 tion problem, which usually involves in simplifying text but not removing any phrases.For example, (Carroll et al., 1998) discussed simplifying newspaper text by replacing uncommon words with common words, or replacing complicated syntactic structures with simpler structures to assist people with reading disabilities.(Chandrasekar et al., 1996) discussed text simplification in general.The difference between these studies on text simplification and our system is that a text simplification system usually not from an original sentence, although it may change its structure or words, but our system removes extraneous phrases from the extracted sentences.5 Conclusions and future work We present a novel sentence reduction system which removes extraneous phrases from sentences that are extracted from an article in text summarization.The deleted phrases can be prepositional phrases, clauses, to-infinitives, or gerunds, and multiple phrases can be removed form a single sentence.The focus of this work is on determining, for a sentence in a particular context, which phrases in the sentence are less important and can be removed.Our system makes intelligent reduction decisions based on multiple sources of knowledge, including syntactic knowledge, context, and probabilities computed from corpus analysis.We also created a corpus consisting of 500 sentences and their reduced forms produced by human professionals, and used this corpus for training and testing the system.The evaluation shows that 81.3% of reduction decisions made by the system agreed with those of humans.In the future, we would like to integrate our sentence reduction system with extraction-based summarization systems other than the one we have developed, improve the performance of the system further by introducing other sources of knowledge necessary for reduction, and explore other interesting applications of the reduction system.Acknowledgment This material is based upon work supported by the National Science Foundation under Grant No.IRI 96-19124 and IRI 96-18797.Any opinions, findings, and conclusions or recommendations expressed in this material are those of the authors and do not\""
            ],
            "application/vnd.google.colaboratory.intrinsic+json": {
              "type": "string"
            }
          },
          "metadata": {},
          "execution_count": 20
        }
      ],
      "source": [
        "listToStr1"
      ]
    },
    {
      "cell_type": "code",
      "execution_count": null,
      "metadata": {
        "colab": {
          "base_uri": "https://localhost:8080/"
        },
        "outputId": "7ab6cb0d-4ea1-48df-c7ad-b6f9caeecfa7",
        "id": "L0HBuST7-V3Z"
      },
      "outputs": [
        {
          "output_type": "stream",
          "name": "stderr",
          "text": [
            "Token indices sequence length is longer than the specified maximum sequence length for this model (1915 > 512). Running this sequence through the model will result in indexing errors\n"
          ]
        },
        {
          "output_type": "execute_result",
          "data": {
            "text/plain": [
              "['We present a novel sentence reduction system which removes extraneous phrases from sentences that are extracted from an article in text summarization.The system is designed to reduce the number of words in a sentence by as much as 50% while also allowing for more precise prediction of the content of the sentence.']"
            ]
          },
          "metadata": {},
          "execution_count": 21
        }
      ],
      "source": [
        "# let's load the trained model for inferencing:\n",
        "model.load_model(\"t5\",\"/content/drive/MyDrive/ColabNotebooks/outputs/simplet5-epoch-49-train-loss-0.0174-val-loss-2.6444\", use_gpu=True)\n",
        "\n",
        "pred2=model.predict(listToStr1)\n",
        "model.predict(listToStr1)"
      ]
    },
    {
      "cell_type": "code",
      "execution_count": null,
      "metadata": {
        "colab": {
          "base_uri": "https://localhost:8080/"
        },
        "outputId": "74acca78-ace1-4219-ef69-af6aa86a3f7d",
        "id": "wcE1LVWP_50-"
      },
      "outputs": [
        {
          "output_type": "execute_result",
          "data": {
            "text/plain": [
              "{'title': '1 Motivation', 'number': '1'}"
            ]
          },
          "metadata": {},
          "execution_count": 22
        }
      ],
      "source": [
        "mystart[2].attrib"
      ]
    },
    {
      "cell_type": "code",
      "execution_count": null,
      "metadata": {
        "colab": {
          "base_uri": "https://localhost:8080/",
          "height": 35
        },
        "outputId": "d8e95589-1286-4d0c-e7e8-5a79c94f3aa1",
        "id": "Vj7OlI6S_51A"
      },
      "outputs": [
        {
          "output_type": "execute_result",
          "data": {
            "text/plain": [
              "'SECTION'"
            ],
            "application/vnd.google.colaboratory.intrinsic+json": {
              "type": "string"
            }
          },
          "metadata": {},
          "execution_count": 23
        }
      ],
      "source": [
        "mystart[2].tag"
      ]
    },
    {
      "cell_type": "code",
      "execution_count": null,
      "metadata": {
        "colab": {
          "base_uri": "https://localhost:8080/"
        },
        "outputId": "dd40e9b8-582d-47d1-a936-503663bad857",
        "id": "hvSezNBi_51B"
      },
      "outputs": [
        {
          "output_type": "stream",
          "name": "stdout",
          "text": [
            "S {'sid': '53', 'ssid': '1'}\n",
            "S {'sid': '54', 'ssid': '2'}\n",
            "S {'sid': '55', 'ssid': '3'}\n",
            "S {'sid': '56', 'ssid': '4'}\n",
            "S {'sid': '57', 'ssid': '5'}\n",
            "S {'sid': '58', 'ssid': '6'}\n",
            "S {'sid': '60', 'ssid': '8'}\n",
            "S {'sid': '61', 'ssid': '9'}\n",
            "S {'sid': '62', 'ssid': '10'}\n",
            "S {'sid': '63', 'ssid': '11'}\n",
            "S {'sid': '64', 'ssid': '12'}\n",
            "S {'sid': '65', 'ssid': '13'}\n",
            "S {'sid': '66', 'ssid': '14'}\n",
            "S {'sid': '67', 'ssid': '15'}\n",
            "S {'sid': '68', 'ssid': '16'}\n",
            "S {'sid': '69', 'ssid': '17'}\n",
            "S {'sid': '70', 'ssid': '18'}\n",
            "S {'sid': '71', 'ssid': '19'}\n",
            "S {'sid': '72', 'ssid': '20'}\n",
            "S {'sid': '73', 'ssid': '21'}\n",
            "S {'sid': '74', 'ssid': '22'}\n",
            "S {'sid': '76', 'ssid': '24'}\n",
            "S {'sid': '77', 'ssid': '25'}\n",
            "S {'sid': '78', 'ssid': '26'}\n",
            "S {'sid': '79', 'ssid': '27'}\n",
            "S {'sid': '80', 'ssid': '28'}\n",
            "S {'sid': '81', 'ssid': '29'}\n",
            "S {'sid': '82', 'ssid': '30'}\n",
            "S {'sid': '84', 'ssid': '32'}\n"
          ]
        }
      ],
      "source": [
        "for x in mystart[2]:\n",
        "  print(x.tag,x.attrib)"
      ]
    },
    {
      "cell_type": "code",
      "execution_count": null,
      "metadata": {
        "id": "FjUyVNa3_51C"
      },
      "outputs": [],
      "source": [
        "summaryText2=[]\n",
        "summaryText2.append(\"summarize: \")\n",
        "for x in mystart[2]:\n",
        "  summaryText2.append(x.text)"
      ]
    },
    {
      "cell_type": "code",
      "execution_count": null,
      "metadata": {
        "colab": {
          "base_uri": "https://localhost:8080/"
        },
        "outputId": "d8249bfc-a60f-4490-b334-8a871347705c",
        "id": "O7Onvjw5_51D"
      },
      "outputs": [
        {
          "output_type": "execute_result",
          "data": {
            "text/plain": [
              "['summarize: ',\n",
              " 'Current automatic summarizers usually rely on sentence extraction to produce summaries.',\n",
              " 'Human professionals also often reuse the input documents to generate summaries; however, rather than simply extracting sentences and stringing them together, as most current summarizers do, humans often the extracted sentences in some way so that the resulting summary is concise and coherent.',\n",
              " 'We analyzed a set of articles and identified six major operations that can be used for editing the extracted sentences, including removing extraneous phrases from an extracted sentence, combining a reduced sentence with other sentences, syntactic transformation, substituting phrases in an extracted sentence with their paraphrases, substituting phrases with more general or specific descriptions, and reordering the extracted sentences (Jing and McKeown, 1999; Jing and McKeown, 2000).',\n",
              " 'We call the operation of removing extraneous phrases from an extracted sentence sentence reduction.',\n",
              " 'It is one of the most effective operations that can be used to edit the extracted sentences.',\n",
              " 'Reduction can remove material at any granularity: a word, a prepositional phrase, a gerund, a to-infinitive or a clause.',\n",
              " \"The following example shows an original sentence and its reduced form written by a human professional: Original sentence: When it arrives sometime next year in new TV sets, the V-chip will give parents a new and potentially revolutionary device to block out programs they don't want their children to see.\",\n",
              " \"Reduced sentence by humans: The V-chip will give parents a device to block out programs they don't want their children to see.\",\n",
              " 'We implemented an automatic sentence reduction system.',\n",
              " 'Input to the reduction system includes extracted sentences, as well as the original document.',\n",
              " 'Output of reduction are reduced forms of the extracted sentences, which can either be used to produce summaries directly, or be merged with other sentences.',\n",
              " 'The reduction system uses multiple sources of knowledge to make reduction decisions, including syntactic knowledge, context, and statistics computed from a training corpus.',\n",
              " 'We evaluated the system against the output of human professionals.',\n",
              " 'The program achieved a success rate of 81.3%, meaning that 81.3% of reduction decisions made by the system agreed with those of humans.',\n",
              " 'Sentence reduction improves the conciseness of automatically generated summaries, making it concise and on target.',\n",
              " 'It can also improve the coherence of generated summaries, since extraneous phrases that can potentially introduce incoherece are removed.',\n",
              " 'We collected 500 sentences and their corresponding reduced forms written by humans, and found that humans reduced the length of these 500 sentences by 44.2% on average.',\n",
              " 'This indicates that a good sentence reduction system can improve the conciseness of generated summaries significantly.',\n",
              " 'In the next section, we describe the sentence reduction algorithm in details.',\n",
              " 'In Section 3, we introduce the evaluation scheme used to access the performance of the system and present evaluation results.',\n",
              " 'In Section 4, we discuss other applications of sentence reduction, the interaction between reduction and other modules in a summarization system, and related work on sentence simplication.',\n",
              " 'Ideally, we want to remove a phrase from an extracted sentence only if it is irrelevant to the main topic.',\n",
              " 'To achieve this, the system relies on multiple sources of knowledge to make reduction decisions.',\n",
              " 'We first introduce the resources in the system and then describe the reduction algorithm.',\n",
              " '(1) The corpus.',\n",
              " 'One of the key features of the system is that it uses a corpus consisting of original sentences and their corresponding reduced forms written by humans for training and testing purpose.',\n",
              " 'This corpus was created using an automatic program we have developed to automatically analyze human-written abstracts.',\n",
              " 'The program, called the decomposition program, matches phrases in a human-written summary sentence to phrases in the original document (Jing and McKeown, 1999).',\n",
              " 'The articles in the corpus are news reports on telecommunication related issues, but they cover a wide range of topics, such as law, labor, and company mergers. database to date.']"
            ]
          },
          "metadata": {},
          "execution_count": 26
        }
      ],
      "source": [
        "summaryText2"
      ]
    },
    {
      "cell_type": "code",
      "execution_count": null,
      "metadata": {
        "id": "FU9ABXa8_51D"
      },
      "outputs": [],
      "source": [
        "listToStr2=''.join([str(elem) for i,elem in enumerate(summaryText2)])"
      ]
    },
    {
      "cell_type": "code",
      "execution_count": null,
      "metadata": {
        "colab": {
          "base_uri": "https://localhost:8080/",
          "height": 140
        },
        "outputId": "d37b5b99-f653-4fdc-ca72-106d8e1edc70",
        "id": "2y35yDMD_51E"
      },
      "outputs": [
        {
          "output_type": "execute_result",
          "data": {
            "text/plain": [
              "\"summarize: Current automatic summarizers usually rely on sentence extraction to produce summaries.Human professionals also often reuse the input documents to generate summaries; however, rather than simply extracting sentences and stringing them together, as most current summarizers do, humans often the extracted sentences in some way so that the resulting summary is concise and coherent.We analyzed a set of articles and identified six major operations that can be used for editing the extracted sentences, including removing extraneous phrases from an extracted sentence, combining a reduced sentence with other sentences, syntactic transformation, substituting phrases in an extracted sentence with their paraphrases, substituting phrases with more general or specific descriptions, and reordering the extracted sentences (Jing and McKeown, 1999; Jing and McKeown, 2000).We call the operation of removing extraneous phrases from an extracted sentence sentence reduction.It is one of the most effective operations that can be used to edit the extracted sentences.Reduction can remove material at any granularity: a word, a prepositional phrase, a gerund, a to-infinitive or a clause.The following example shows an original sentence and its reduced form written by a human professional: Original sentence: When it arrives sometime next year in new TV sets, the V-chip will give parents a new and potentially revolutionary device to block out programs they don't want their children to see.Reduced sentence by humans: The V-chip will give parents a device to block out programs they don't want their children to see.We implemented an automatic sentence reduction system.Input to the reduction system includes extracted sentences, as well as the original document.Output of reduction are reduced forms of the extracted sentences, which can either be used to produce summaries directly, or be merged with other sentences.The reduction system uses multiple sources of knowledge to make reduction decisions, including syntactic knowledge, context, and statistics computed from a training corpus.We evaluated the system against the output of human professionals.The program achieved a success rate of 81.3%, meaning that 81.3% of reduction decisions made by the system agreed with those of humans.Sentence reduction improves the conciseness of automatically generated summaries, making it concise and on target.It can also improve the coherence of generated summaries, since extraneous phrases that can potentially introduce incoherece are removed.We collected 500 sentences and their corresponding reduced forms written by humans, and found that humans reduced the length of these 500 sentences by 44.2% on average.This indicates that a good sentence reduction system can improve the conciseness of generated summaries significantly.In the next section, we describe the sentence reduction algorithm in details.In Section 3, we introduce the evaluation scheme used to access the performance of the system and present evaluation results.In Section 4, we discuss other applications of sentence reduction, the interaction between reduction and other modules in a summarization system, and related work on sentence simplication.Ideally, we want to remove a phrase from an extracted sentence only if it is irrelevant to the main topic.To achieve this, the system relies on multiple sources of knowledge to make reduction decisions.We first introduce the resources in the system and then describe the reduction algorithm.(1) The corpus.One of the key features of the system is that it uses a corpus consisting of original sentences and their corresponding reduced forms written by humans for training and testing purpose.This corpus was created using an automatic program we have developed to automatically analyze human-written abstracts.The program, called the decomposition program, matches phrases in a human-written summary sentence to phrases in the original document (Jing and McKeown, 1999).The articles in the corpus are news reports on telecommunication related issues, but they cover a wide range of topics, such as law, labor, and company mergers. database to date.\""
            ],
            "application/vnd.google.colaboratory.intrinsic+json": {
              "type": "string"
            }
          },
          "metadata": {},
          "execution_count": 28
        }
      ],
      "source": [
        "listToStr2"
      ]
    },
    {
      "cell_type": "code",
      "execution_count": null,
      "metadata": {
        "colab": {
          "base_uri": "https://localhost:8080/"
        },
        "outputId": "91a7231b-cae9-4bf3-c9d5-cf7eb6c596d2",
        "id": "u7tJ1HNV_51E"
      },
      "outputs": [
        {
          "output_type": "stream",
          "name": "stderr",
          "text": [
            "Token indices sequence length is longer than the specified maximum sequence length for this model (853 > 512). Running this sequence through the model will result in indexing errors\n"
          ]
        },
        {
          "output_type": "execute_result",
          "data": {
            "text/plain": [
              "['We analyzed a set of articles and identified six major operations that can be used for editing the extracted sentences.These include removing extraneous phrases from an extracted sentence, combining a reduced sentence with other sentences, and syntactic transformation.The system achieved a success rate of 81.3%, meaning that 81.3% of reduction decisions made by the system agreed with those of humans.']"
            ]
          },
          "metadata": {},
          "execution_count": 29
        }
      ],
      "source": [
        "# let's load the trained model for inferencing:\n",
        "model.load_model(\"t5\",\"/content/drive/MyDrive/ColabNotebooks/outputs/simplet5-epoch-49-train-loss-0.0174-val-loss-2.6444\", use_gpu=True)\n",
        "\n",
        "pred3=model.predict(listToStr2)\n",
        "model.predict(listToStr2)"
      ]
    },
    {
      "cell_type": "markdown",
      "source": [
        "Evaluation Section"
      ],
      "metadata": {
        "id": "PxZFxG_XCu1C"
      }
    },
    {
      "cell_type": "code",
      "execution_count": null,
      "metadata": {
        "id": "6UnY3TKE--ON",
        "colab": {
          "base_uri": "https://localhost:8080/"
        },
        "outputId": "5cdf518f-7f5b-4789-81c4-b8a7cb8f0982"
      },
      "outputs": [
        {
          "output_type": "execute_result",
          "data": {
            "text/plain": [
              "{'title': '3 Evaluation', 'number': '2'}"
            ]
          },
          "metadata": {},
          "execution_count": 30
        }
      ],
      "source": [
        "mystart[3].attrib"
      ]
    },
    {
      "cell_type": "code",
      "execution_count": null,
      "metadata": {
        "id": "CnvwvV3o_AY6",
        "colab": {
          "base_uri": "https://localhost:8080/",
          "height": 35
        },
        "outputId": "d700deed-6162-4ca5-90bd-bbeb86b6ed7f"
      },
      "outputs": [
        {
          "output_type": "execute_result",
          "data": {
            "text/plain": [
              "'SECTION'"
            ],
            "application/vnd.google.colaboratory.intrinsic+json": {
              "type": "string"
            }
          },
          "metadata": {},
          "execution_count": 31
        }
      ],
      "source": [
        "mystart[3].tag"
      ]
    },
    {
      "cell_type": "code",
      "execution_count": null,
      "metadata": {
        "id": "stC_l8xo_F45",
        "colab": {
          "base_uri": "https://localhost:8080/"
        },
        "outputId": "6a184bea-8d3b-4690-9bbf-b0233e202e10"
      },
      "outputs": [
        {
          "output_type": "stream",
          "name": "stdout",
          "text": [
            "S {'sid': '140', 'ssid': '1'}\n",
            "S {'sid': '141', 'ssid': '2'}\n",
            "S {'sid': '142', 'ssid': '3'}\n",
            "S {'sid': '143', 'ssid': '4'}\n",
            "S {'sid': '144', 'ssid': '5'}\n",
            "S {'sid': '145', 'ssid': '6'}\n",
            "S {'sid': '146', 'ssid': '7'}\n",
            "S {'sid': '147', 'ssid': '8'}\n",
            "S {'sid': '148', 'ssid': '9'}\n",
            "S {'sid': '149', 'ssid': '10'}\n",
            "S {'sid': '150', 'ssid': '11'}\n",
            "S {'sid': '151', 'ssid': '12'}\n",
            "S {'sid': '152', 'ssid': '13'}\n",
            "S {'sid': '153', 'ssid': '14'}\n",
            "S {'sid': '154', 'ssid': '15'}\n",
            "S {'sid': '155', 'ssid': '16'}\n",
            "S {'sid': '156', 'ssid': '17'}\n",
            "S {'sid': '157', 'ssid': '18'}\n",
            "S {'sid': '158', 'ssid': '19'}\n",
            "S {'sid': '159', 'ssid': '20'}\n",
            "S {'sid': '160', 'ssid': '21'}\n",
            "S {'sid': '161', 'ssid': '22'}\n",
            "S {'sid': '162', 'ssid': '23'}\n",
            "S {'sid': '163', 'ssid': '24'}\n",
            "S {'sid': '164', 'ssid': '25'}\n",
            "S {'sid': '165', 'ssid': '26'}\n",
            "S {'sid': '166', 'ssid': '27'}\n",
            "S {'sid': '167', 'ssid': '28'}\n",
            "S {'sid': '168', 'ssid': '29'}\n",
            "S {'sid': '169', 'ssid': '30'}\n",
            "S {'sid': '170', 'ssid': '31'}\n",
            "S {'sid': '171', 'ssid': '32'}\n",
            "S {'sid': '172', 'ssid': '33'}\n",
            "S {'sid': '173', 'ssid': '34'}\n",
            "S {'sid': '174', 'ssid': '35'}\n",
            "S {'sid': '175', 'ssid': '36'}\n"
          ]
        }
      ],
      "source": [
        "for x in mystart[3]:\n",
        "  print(x.tag,x.attrib)"
      ]
    },
    {
      "cell_type": "code",
      "execution_count": null,
      "metadata": {
        "id": "R73k51j__PEr"
      },
      "outputs": [],
      "source": [
        "summaryText=[]\n",
        "summaryText.append(\"summarize: \")\n",
        "for x in mystart[3]:\n",
        "  summaryText.append(x.text)"
      ]
    },
    {
      "cell_type": "code",
      "execution_count": null,
      "metadata": {
        "id": "3fBdMZl1_VoW",
        "colab": {
          "base_uri": "https://localhost:8080/"
        },
        "outputId": "04d9a306-754d-42e1-9b66-d8cc46f30cda"
      },
      "outputs": [
        {
          "output_type": "execute_result",
          "data": {
            "text/plain": [
              "['summarize: ',\n",
              " 'We define a measure called success rate to evaluate the performance of our sentence reduction program.',\n",
              " \"Original sentence : When it arrives sometime next year in new TV sets, the V-chip will give parents a new and potentially revolutionary device to block out programs they don't want their children to see.\",\n",
              " \"The success rate computes the percentage of system's reduction decisions that agree with those of humans.\",\n",
              " 'We compute the success rate in the following way.',\n",
              " 'The reduction process can be considered as a series of decision-making process along the edges of a sentence parse tree.',\n",
              " 'At each node of the parse tree, both the human and the program make a decision whether to remove the node or to keep it.',\n",
              " 'If a node is removed, the subtree with that node as the root is removed as a whole, thus no decisions are needed for the descendants of the removed node.',\n",
              " 'If the node is kept, we consider that node as the root and repeat this process.',\n",
              " 'Suppose we have an input sentence (ABCDEFGH), which has a parse tree shown in Figure 2.',\n",
              " 'Suppose a human reduces the sentence to (ABDGH), which can be translated to a series of decisions made along edges in the sentence parse tree as shown in Figure 3.',\n",
              " 'The symbol &quot;y&quot; along an edge means the node it points to will be kept means the node will be removed.',\n",
              " 'Suppose the program reduces the sentence to (BCD), which can be translated similarly to the annotated tree shown in Figure 4.',\n",
              " 'We can see that along five edges (they are D—)T, D—*G, B-4A, B—>C), both the human and the program made decisions.',\n",
              " 'Two out of the five decisions agree (they are D--÷B and D—>E), so the success rate is 2/5 (40%).',\n",
              " 'The success rate is defined as: # of edges along which the human and the program have made the same decision success rate = the total # of edges along which both the human and the progam have made decisions Note that the edges along which only the human or the program has made a decision (e.g., G--F and G—.>F in Figure 3 and Figure 4) are not considered in the computation of success rate, since there is no agreement issue in such cases.',\n",
              " 'In the evaluation, we used 400 sentences in the corpus to compute the probabilities that a phrase is removed, reduced, or unchanged.',\n",
              " 'We tested the program on the rest 100 sentences.',\n",
              " 'Using five-fold validation (i.e., chose different 100 sentences for testing each time and repeating the experiment five times), The program achieved an average success rate of 81.3%.',\n",
              " 'If we consider the baseline as removing all the prepositional phrases, clauses, to-infinitives and gerunds, the baseline performance is 43.2%.',\n",
              " \"We also computed the success rate of program's decisions on particular types of phrases.\",\n",
              " 'For the decisions on removing or keeping a clause, the system has a success rate of 78.1%; for the decisions on removing or keeping a to-infinitive, the system has a success rate of 85.2%.',\n",
              " 'We found out that the system has a low success rate on removing adjectives of noun phrases or removing adverbs of a sentence or a verb phrase.',\n",
              " 'One reason for this is that our probability model can hardly capture the dependencies between a particular adjective and the head noun since the training corpus is not large enough, while the other sources of information, including grammar or context information, provide little evidence on whether an adjective or an adverb should be removed.',\n",
              " 'Given that whether or not an adjective or an adverb is removed does not affect the conciseness of the sentence significantly and the system lacks of reliability in making such decisions, we decide not to remove adjectives and adverbs.',\n",
              " 'On average, the system reduced the length of the 500 sentence by 32.7% (based on the number of words), while humans reduced it by 41.8%.',\n",
              " 'The probabilities we computed from the training corpus covered 58% of instances in the test corpus.',\n",
              " 'When the corpus probability is absent for a case, the system makes decisions based on the other two sources of knowledge.',\n",
              " 'Some of the errors made by the system result from the errors by the syntactic parser.',\n",
              " 'We randomly checked 50 sentences, and found that 8% of the errors made by the system are due to parsing errors.',\n",
              " 'There are two main reasons responsible for this relative low percentage of errors resulted from mistakes in parsing.',\n",
              " 'One reason is that we have taken some special measures to avoid errors introduced by mistakes in parsing.',\n",
              " 'For example, PP attachment is a difficult problem in parsing and it is not rare that a PP is wrongly attached.',\n",
              " 'Therefore, we take this into account when marking the obligatory components using subcategorization knowledge from the lexicon (step 2) — we not only look at the PPs that are attached to a verb phrase, but also PPs that are next to the verb phrase but not attached, in case it is part of the verb phrase.',\n",
              " 'We also wrote a preprocessor to deal with particular structures that the parser often has problems with, such as appositions.',\n",
              " 'The other reason is that parsing errors do not always result in reduction errors.',\n",
              " 'For example, given a sentence &quot;The spokesperson of the University said that ...&quot;, although that-clause in the sentence may have a complicated structure and the parser gets it wrong, the reduction system is not necessarily affected since it may decide in this case to keep that-clause as it is, as humans often do, so the parsing errors will not matter in this example.']"
            ]
          },
          "metadata": {},
          "execution_count": 34
        }
      ],
      "source": [
        "summaryText"
      ]
    },
    {
      "cell_type": "code",
      "execution_count": null,
      "metadata": {
        "id": "EhO5baWbC1h5"
      },
      "outputs": [],
      "source": [
        "listToStr=''.join([str(elem) for i,elem in enumerate(summaryText)])"
      ]
    },
    {
      "cell_type": "code",
      "execution_count": null,
      "metadata": {
        "id": "SkolDrjDDFNN",
        "colab": {
          "base_uri": "https://localhost:8080/",
          "height": 140
        },
        "outputId": "30c26d38-5247-43f6-df4a-ce8c2e810d2d"
      },
      "outputs": [
        {
          "output_type": "execute_result",
          "data": {
            "text/plain": [
              "\"summarize: We define a measure called success rate to evaluate the performance of our sentence reduction program.Original sentence : When it arrives sometime next year in new TV sets, the V-chip will give parents a new and potentially revolutionary device to block out programs they don't want their children to see.The success rate computes the percentage of system's reduction decisions that agree with those of humans.We compute the success rate in the following way.The reduction process can be considered as a series of decision-making process along the edges of a sentence parse tree.At each node of the parse tree, both the human and the program make a decision whether to remove the node or to keep it.If a node is removed, the subtree with that node as the root is removed as a whole, thus no decisions are needed for the descendants of the removed node.If the node is kept, we consider that node as the root and repeat this process.Suppose we have an input sentence (ABCDEFGH), which has a parse tree shown in Figure 2.Suppose a human reduces the sentence to (ABDGH), which can be translated to a series of decisions made along edges in the sentence parse tree as shown in Figure 3.The symbol &quot;y&quot; along an edge means the node it points to will be kept means the node will be removed.Suppose the program reduces the sentence to (BCD), which can be translated similarly to the annotated tree shown in Figure 4.We can see that along five edges (they are D—)T, D—*G, B-4A, B—>C), both the human and the program made decisions.Two out of the five decisions agree (they are D--÷B and D—>E), so the success rate is 2/5 (40%).The success rate is defined as: # of edges along which the human and the program have made the same decision success rate = the total # of edges along which both the human and the progam have made decisions Note that the edges along which only the human or the program has made a decision (e.g., G--F and G—.>F in Figure 3 and Figure 4) are not considered in the computation of success rate, since there is no agreement issue in such cases.In the evaluation, we used 400 sentences in the corpus to compute the probabilities that a phrase is removed, reduced, or unchanged.We tested the program on the rest 100 sentences.Using five-fold validation (i.e., chose different 100 sentences for testing each time and repeating the experiment five times), The program achieved an average success rate of 81.3%.If we consider the baseline as removing all the prepositional phrases, clauses, to-infinitives and gerunds, the baseline performance is 43.2%.We also computed the success rate of program's decisions on particular types of phrases.For the decisions on removing or keeping a clause, the system has a success rate of 78.1%; for the decisions on removing or keeping a to-infinitive, the system has a success rate of 85.2%.We found out that the system has a low success rate on removing adjectives of noun phrases or removing adverbs of a sentence or a verb phrase.One reason for this is that our probability model can hardly capture the dependencies between a particular adjective and the head noun since the training corpus is not large enough, while the other sources of information, including grammar or context information, provide little evidence on whether an adjective or an adverb should be removed.Given that whether or not an adjective or an adverb is removed does not affect the conciseness of the sentence significantly and the system lacks of reliability in making such decisions, we decide not to remove adjectives and adverbs.On average, the system reduced the length of the 500 sentence by 32.7% (based on the number of words), while humans reduced it by 41.8%.The probabilities we computed from the training corpus covered 58% of instances in the test corpus.When the corpus probability is absent for a case, the system makes decisions based on the other two sources of knowledge.Some of the errors made by the system result from the errors by the syntactic parser.We randomly checked 50 sentences, and found that 8% of the errors made by the system are due to parsing errors.There are two main reasons responsible for this relative low percentage of errors resulted from mistakes in parsing.One reason is that we have taken some special measures to avoid errors introduced by mistakes in parsing.For example, PP attachment is a difficult problem in parsing and it is not rare that a PP is wrongly attached.Therefore, we take this into account when marking the obligatory components using subcategorization knowledge from the lexicon (step 2) — we not only look at the PPs that are attached to a verb phrase, but also PPs that are next to the verb phrase but not attached, in case it is part of the verb phrase.We also wrote a preprocessor to deal with particular structures that the parser often has problems with, such as appositions.The other reason is that parsing errors do not always result in reduction errors.For example, given a sentence &quot;The spokesperson of the University said that ...&quot;, although that-clause in the sentence may have a complicated structure and the parser gets it wrong, the reduction system is not necessarily affected since it may decide in this case to keep that-clause as it is, as humans often do, so the parsing errors will not matter in this example.\""
            ],
            "application/vnd.google.colaboratory.intrinsic+json": {
              "type": "string"
            }
          },
          "metadata": {},
          "execution_count": 36
        }
      ],
      "source": [
        "listToStr"
      ]
    },
    {
      "cell_type": "code",
      "execution_count": null,
      "metadata": {
        "id": "7PVmAPLUSBMh",
        "colab": {
          "base_uri": "https://localhost:8080/"
        },
        "outputId": "266e6d5c-09e8-4442-e50f-7b8465463776"
      },
      "outputs": [
        {
          "output_type": "stream",
          "name": "stderr",
          "text": [
            "Token indices sequence length is longer than the specified maximum sequence length for this model (1273 > 512). Running this sequence through the model will result in indexing errors\n"
          ]
        },
        {
          "output_type": "execute_result",
          "data": {
            "text/plain": [
              "['In this paper, we define a measure called success rate to evaluate the performance of our sentence reduction program.The system reduces the length of a 500 sentence by 32.7% (based on the number of words), while humans reduce it by 41.8%.The system also reduces the number of nodes in a sentence that are not part of the verb phrase.']"
            ]
          },
          "metadata": {},
          "execution_count": 37
        }
      ],
      "source": [
        "# let's load the trained model for inferencing:\n",
        "model.load_model(\"t5\",\"/content/drive/MyDrive/ColabNotebooks/outputs/simplet5-epoch-49-train-loss-0.0174-val-loss-2.6444\", use_gpu=True)\n",
        "\n",
        "pred=model.predict(listToStr)\n",
        "model.predict(listToStr)"
      ]
    },
    {
      "cell_type": "code",
      "source": [],
      "metadata": {
        "id": "mv8wM43f-Vl7"
      },
      "execution_count": null,
      "outputs": []
    },
    {
      "cell_type": "code",
      "execution_count": null,
      "metadata": {
        "colab": {
          "base_uri": "https://localhost:8080/"
        },
        "outputId": "bbf1e819-ae70-4082-e597-d346cacee133",
        "id": "YQoXuw9zDBqh"
      },
      "outputs": [
        {
          "output_type": "execute_result",
          "data": {
            "text/plain": [
              "{'title': '4 Discussion and related work', 'number': '3'}"
            ]
          },
          "metadata": {},
          "execution_count": 38
        }
      ],
      "source": [
        "mystart[4].attrib"
      ]
    },
    {
      "cell_type": "code",
      "execution_count": null,
      "metadata": {
        "colab": {
          "base_uri": "https://localhost:8080/",
          "height": 35
        },
        "outputId": "6c3ec68c-1ff3-4adc-fc0f-d063a4dff5fe",
        "id": "QHYkvOChDBqk"
      },
      "outputs": [
        {
          "output_type": "execute_result",
          "data": {
            "text/plain": [
              "'SECTION'"
            ],
            "application/vnd.google.colaboratory.intrinsic+json": {
              "type": "string"
            }
          },
          "metadata": {},
          "execution_count": 39
        }
      ],
      "source": [
        "mystart[4].tag"
      ]
    },
    {
      "cell_type": "code",
      "execution_count": null,
      "metadata": {
        "colab": {
          "base_uri": "https://localhost:8080/"
        },
        "outputId": "c5f85cf9-4964-4f2d-d5d2-667f5568882e",
        "id": "_63nMwI2DBql"
      },
      "outputs": [
        {
          "output_type": "stream",
          "name": "stdout",
          "text": [
            "S {'sid': '176', 'ssid': '1'}\n",
            "S {'sid': '177', 'ssid': '2'}\n",
            "S {'sid': '178', 'ssid': '3'}\n",
            "S {'sid': '179', 'ssid': '4'}\n",
            "S {'sid': '180', 'ssid': '5'}\n",
            "S {'sid': '181', 'ssid': '6'}\n",
            "S {'sid': '182', 'ssid': '7'}\n",
            "S {'sid': '183', 'ssid': '8'}\n",
            "S {'sid': '184', 'ssid': '9'}\n",
            "S {'sid': '185', 'ssid': '10'}\n",
            "S {'sid': '186', 'ssid': '11'}\n",
            "S {'sid': '187', 'ssid': '12'}\n",
            "S {'sid': '188', 'ssid': '13'}\n",
            "S {'sid': '189', 'ssid': '14'}\n",
            "S {'sid': '190', 'ssid': '15'}\n",
            "S {'sid': '191', 'ssid': '16'}\n"
          ]
        }
      ],
      "source": [
        "for x in mystart[4]:\n",
        "  print(x.tag,x.attrib)"
      ]
    },
    {
      "cell_type": "code",
      "execution_count": null,
      "metadata": {
        "id": "fxz-LbrxDBqm"
      },
      "outputs": [],
      "source": [
        "summaryText4=[]\n",
        "summaryText4.append(\"summarize: \")\n",
        "for x in mystart[4]:\n",
        "  summaryText4.append(x.text)"
      ]
    },
    {
      "cell_type": "code",
      "execution_count": null,
      "metadata": {
        "colab": {
          "base_uri": "https://localhost:8080/"
        },
        "outputId": "07efcd9f-c747-499a-e383-80070f8a86ee",
        "id": "mCqypglODBqm"
      },
      "outputs": [
        {
          "output_type": "execute_result",
          "data": {
            "text/plain": [
              "['summarize: ',\n",
              " 'The reduction algorithm we present assumes generic summarization; that is, we want to generate a summary that includes the most important information in an article.',\n",
              " 'We can tailor the reduction system to queries-based summarization.',\n",
              " \"In that case, the task of the reduction is not to remove phrases that are extraneous in terms of the main topic of an article, but phrases that are not very relevant to users' queries.\",\n",
              " \"We extended our sentence reduction program to query-based summarization by adding another step in the algorithm to measure the relevance of users' queries to phrases in the sentence.\",\n",
              " 'In the last step of reduction when the system makes the final decision, the relevance of a phrase to the query is taken into account, together with syntactic, context, and corpus information.',\n",
              " 'Ideally, the sentence reduction module should interact with other modules in a summarization system.',\n",
              " 'It should be able to send feedback to the extraction module if it finds that a sentence selected by the extraction module may be inappropriate (for example, having a very low context importance score).',\n",
              " 'It should also be able to interact with the modules that run after it, such as the sentence combination module, so that it can revise reduction decisions according to the feedback from these modules.',\n",
              " 'Some researchers suggested removing phrases or clauses from sentences for certain applications.',\n",
              " '(Grefenstette, 1998) proposed to remove phrases in sentences to produce a telegraphic text that can be used to provide audio scanning service for the blind.',\n",
              " '(Corston-Oliver and Dolan, 1999) proposed to remove clauses in sentences before indexing documents for Information Retrieval.',\n",
              " 'Both studies removed phrases based only on their syntactic categories, while the focus of our system is on deciding when it is appropriate to remove a phrase.',\n",
              " 'Other researchers worked on the text simplification problem, which usually involves in simplifying text but not removing any phrases.',\n",
              " 'For example, (Carroll et al., 1998) discussed simplifying newspaper text by replacing uncommon words with common words, or replacing complicated syntactic structures with simpler structures to assist people with reading disabilities.',\n",
              " '(Chandrasekar et al., 1996) discussed text simplification in general.',\n",
              " 'The difference between these studies on text simplification and our system is that a text simplification system usually does not remove anything from an original sentence, although it may change its structure or words, but our system removes extraneous phrases from the extracted sentences.']"
            ]
          },
          "metadata": {},
          "execution_count": 42
        }
      ],
      "source": [
        "summaryText4"
      ]
    },
    {
      "cell_type": "code",
      "execution_count": null,
      "metadata": {
        "id": "Kvo9QeclDBqn"
      },
      "outputs": [],
      "source": [
        "listToStr4=''.join([str(elem) for i,elem in enumerate(summaryText4)])"
      ]
    },
    {
      "cell_type": "code",
      "execution_count": null,
      "metadata": {
        "colab": {
          "base_uri": "https://localhost:8080/",
          "height": 140
        },
        "outputId": "b6c4fa31-b6e9-4484-f6bb-d5a87d65e219",
        "id": "N3bLAU_iDBqn"
      },
      "outputs": [
        {
          "output_type": "execute_result",
          "data": {
            "text/plain": [
              "\"summarize: The reduction algorithm we present assumes generic summarization; that is, we want to generate a summary that includes the most important information in an article.We can tailor the reduction system to queries-based summarization.In that case, the task of the reduction is not to remove phrases that are extraneous in terms of the main topic of an article, but phrases that are not very relevant to users' queries.We extended our sentence reduction program to query-based summarization by adding another step in the algorithm to measure the relevance of users' queries to phrases in the sentence.In the last step of reduction when the system makes the final decision, the relevance of a phrase to the query is taken into account, together with syntactic, context, and corpus information.Ideally, the sentence reduction module should interact with other modules in a summarization system.It should be able to send feedback to the extraction module if it finds that a sentence selected by the extraction module may be inappropriate (for example, having a very low context importance score).It should also be able to interact with the modules that run after it, such as the sentence combination module, so that it can revise reduction decisions according to the feedback from these modules.Some researchers suggested removing phrases or clauses from sentences for certain applications.(Grefenstette, 1998) proposed to remove phrases in sentences to produce a telegraphic text that can be used to provide audio scanning service for the blind.(Corston-Oliver and Dolan, 1999) proposed to remove clauses in sentences before indexing documents for Information Retrieval.Both studies removed phrases based only on their syntactic categories, while the focus of our system is on deciding when it is appropriate to remove a phrase.Other researchers worked on the text simplification problem, which usually involves in simplifying text but not removing any phrases.For example, (Carroll et al., 1998) discussed simplifying newspaper text by replacing uncommon words with common words, or replacing complicated syntactic structures with simpler structures to assist people with reading disabilities.(Chandrasekar et al., 1996) discussed text simplification in general.The difference between these studies on text simplification and our system is that a text simplification system usually does not remove anything from an original sentence, although it may change its structure or words, but our system removes extraneous phrases from the extracted sentences.\""
            ],
            "application/vnd.google.colaboratory.intrinsic+json": {
              "type": "string"
            }
          },
          "metadata": {},
          "execution_count": 44
        }
      ],
      "source": [
        "listToStr4"
      ]
    },
    {
      "cell_type": "code",
      "execution_count": null,
      "metadata": {
        "colab": {
          "base_uri": "https://localhost:8080/"
        },
        "outputId": "707a5de0-cfbe-4cff-aaf5-0d67e75a51aa",
        "id": "zz1jkjRLDBqo"
      },
      "outputs": [
        {
          "output_type": "stream",
          "name": "stderr",
          "text": [
            "Token indices sequence length is longer than the specified maximum sequence length for this model (534 > 512). Running this sequence through the model will result in indexing errors\n"
          ]
        },
        {
          "output_type": "execute_result",
          "data": {
            "text/plain": [
              "[\"The reduction algorithm we present assumes generic summarization; that is, we want to generate a summary that includes the most important information in an article.We extended our sentence reduction program to query-based summarization by adding another step in the algorithm to measure the relevance of users' queries to phrases in the sentence.\"]"
            ]
          },
          "metadata": {},
          "execution_count": 45
        }
      ],
      "source": [
        "# let's load the trained model for inferencing:\n",
        "model.load_model(\"t5\",\"/content/drive/MyDrive/ColabNotebooks/outputs/simplet5-epoch-49-train-loss-0.0174-val-loss-2.6444\", use_gpu=True)\n",
        "\n",
        "pred5=model.predict(listToStr4)\n",
        "model.predict(listToStr4)"
      ]
    },
    {
      "cell_type": "code",
      "source": [],
      "metadata": {
        "id": "GaD8hX-lDvGc"
      },
      "execution_count": null,
      "outputs": []
    },
    {
      "cell_type": "code",
      "execution_count": null,
      "metadata": {
        "colab": {
          "base_uri": "https://localhost:8080/"
        },
        "outputId": "3d78cdb7-9a23-4b33-d467-bf91d393b908",
        "id": "2E2cos_PA9C-"
      },
      "outputs": [
        {
          "output_type": "execute_result",
          "data": {
            "text/plain": [
              "{'title': '5 Conclusions and future work', 'number': '4'}"
            ]
          },
          "metadata": {},
          "execution_count": 46
        }
      ],
      "source": [
        "mystart[5].attrib"
      ]
    },
    {
      "cell_type": "code",
      "execution_count": null,
      "metadata": {
        "colab": {
          "base_uri": "https://localhost:8080/",
          "height": 35
        },
        "outputId": "5b6a4e1f-6e07-4cec-e859-c3a8f026051d",
        "id": "X_ASwxVAA9C_"
      },
      "outputs": [
        {
          "output_type": "execute_result",
          "data": {
            "text/plain": [
              "'SECTION'"
            ],
            "application/vnd.google.colaboratory.intrinsic+json": {
              "type": "string"
            }
          },
          "metadata": {},
          "execution_count": 47
        }
      ],
      "source": [
        "mystart[5].tag"
      ]
    },
    {
      "cell_type": "code",
      "execution_count": null,
      "metadata": {
        "colab": {
          "base_uri": "https://localhost:8080/"
        },
        "outputId": "1db5b0eb-6e02-4c41-d4b6-18f8e7877ea4",
        "id": "Zh-UX9WfA9DA"
      },
      "outputs": [
        {
          "output_type": "stream",
          "name": "stdout",
          "text": [
            "S {'sid': '192', 'ssid': '1'}\n",
            "S {'sid': '193', 'ssid': '2'}\n",
            "S {'sid': '194', 'ssid': '3'}\n",
            "S {'sid': '195', 'ssid': '4'}\n",
            "S {'sid': '196', 'ssid': '5'}\n",
            "S {'sid': '197', 'ssid': '6'}\n",
            "S {'sid': '198', 'ssid': '7'}\n"
          ]
        }
      ],
      "source": [
        "for x in mystart[5]:\n",
        "  print(x.tag,x.attrib)"
      ]
    },
    {
      "cell_type": "code",
      "execution_count": null,
      "metadata": {
        "id": "yhSpRhjBA9DA"
      },
      "outputs": [],
      "source": [
        "summaryText3=[]\n",
        "summaryText3.append(\"summarize: \")\n",
        "for x in mystart[5]:\n",
        "  summaryText3.append(x.text)"
      ]
    },
    {
      "cell_type": "code",
      "execution_count": null,
      "metadata": {
        "colab": {
          "base_uri": "https://localhost:8080/"
        },
        "outputId": "e395d426-8ebb-4076-8ba4-0887c2d9cbde",
        "id": "P_Io1j1iA9DB"
      },
      "outputs": [
        {
          "output_type": "execute_result",
          "data": {
            "text/plain": [
              "['summarize: ',\n",
              " 'We present a novel sentence reduction system which removes extraneous phrases from sentences that are extracted from an article in text summarization.',\n",
              " 'The deleted phrases can be prepositional phrases, clauses, to-infinitives, or gerunds, and multiple phrases can be removed form a single sentence.',\n",
              " 'The focus of this work is on determining, for a sentence in a particular context, which phrases in the sentence are less important and can be removed.',\n",
              " 'Our system makes intelligent reduction decisions based on multiple sources of knowledge, including syntactic knowledge, context, and probabilities computed from corpus analysis.',\n",
              " 'We also created a corpus consisting of 500 sentences and their reduced forms produced by human professionals, and used this corpus for training and testing the system.',\n",
              " 'The evaluation shows that 81.3% of reduction decisions made by the system agreed with those of humans.',\n",
              " 'In the future, we would like to integrate our sentence reduction system with extraction-based summarization systems other than the one we have developed, improve the performance of the system further by introducing other sources of knowledge necessary for reduction, and explore other interesting applications of the reduction system.']"
            ]
          },
          "metadata": {},
          "execution_count": 50
        }
      ],
      "source": [
        "summaryText3"
      ]
    },
    {
      "cell_type": "code",
      "execution_count": null,
      "metadata": {
        "id": "omJEZLZFA9DB"
      },
      "outputs": [],
      "source": [
        "listToStr3=''.join([str(elem) for i,elem in enumerate(summaryText3)])"
      ]
    },
    {
      "cell_type": "code",
      "execution_count": null,
      "metadata": {
        "colab": {
          "base_uri": "https://localhost:8080/",
          "height": 140
        },
        "outputId": "6161f361-6edd-4b91-ca12-2742855effe0",
        "id": "6w9O5096A9DB"
      },
      "outputs": [
        {
          "output_type": "execute_result",
          "data": {
            "text/plain": [
              "'summarize: We present a novel sentence reduction system which removes extraneous phrases from sentences that are extracted from an article in text summarization.The deleted phrases can be prepositional phrases, clauses, to-infinitives, or gerunds, and multiple phrases can be removed form a single sentence.The focus of this work is on determining, for a sentence in a particular context, which phrases in the sentence are less important and can be removed.Our system makes intelligent reduction decisions based on multiple sources of knowledge, including syntactic knowledge, context, and probabilities computed from corpus analysis.We also created a corpus consisting of 500 sentences and their reduced forms produced by human professionals, and used this corpus for training and testing the system.The evaluation shows that 81.3% of reduction decisions made by the system agreed with those of humans.In the future, we would like to integrate our sentence reduction system with extraction-based summarization systems other than the one we have developed, improve the performance of the system further by introducing other sources of knowledge necessary for reduction, and explore other interesting applications of the reduction system.'"
            ],
            "application/vnd.google.colaboratory.intrinsic+json": {
              "type": "string"
            }
          },
          "metadata": {},
          "execution_count": 52
        }
      ],
      "source": [
        "listToStr3"
      ]
    },
    {
      "cell_type": "code",
      "execution_count": null,
      "metadata": {
        "colab": {
          "base_uri": "https://localhost:8080/"
        },
        "outputId": "00d098fc-3f2c-42ec-a763-7794cf358249",
        "id": "J4aoiGr3A9DC"
      },
      "outputs": [
        {
          "output_type": "execute_result",
          "data": {
            "text/plain": [
              "['Our system makes intelligent reduction decisions based on multiple sources of knowledge, including syntactic knowledge, context, and probabilities computed from corpus analysis.The evaluation shows that 81.3% of reduction decisions made by the system agreed with those of humans.We would like to integrate our sentence reduction system with extraction-based summarization systems other than the one we have developed.']"
            ]
          },
          "metadata": {},
          "execution_count": 53
        }
      ],
      "source": [
        "# let's load the trained model for inferencing:\n",
        "model.load_model(\"t5\",\"/content/drive/MyDrive/ColabNotebooks/outputs/simplet5-epoch-49-train-loss-0.0174-val-loss-2.6444\", use_gpu=True)\n",
        "\n",
        "pred4=model.predict(listToStr3)\n",
        "model.predict(listToStr3)"
      ]
    },
    {
      "cell_type": "code",
      "source": [
        "final=pred2+pred3+pred+pred5+pred4\n",
        "final"
      ],
      "metadata": {
        "colab": {
          "base_uri": "https://localhost:8080/"
        },
        "id": "TAc7mhBdBiYu",
        "outputId": "cb368691-4c0f-4849-bf5c-59f69691cdd6"
      },
      "execution_count": null,
      "outputs": [
        {
          "output_type": "execute_result",
          "data": {
            "text/plain": [
              "['We present a novel sentence reduction system which removes extraneous phrases from sentences that are extracted from an article in text summarization.The system is designed to reduce the number of words in a sentence by as much as 50% while also allowing for more precise prediction of the content of the sentence.',\n",
              " 'We analyzed a set of articles and identified six major operations that can be used for editing the extracted sentences.These include removing extraneous phrases from an extracted sentence, combining a reduced sentence with other sentences, and syntactic transformation.The system achieved a success rate of 81.3%, meaning that 81.3% of reduction decisions made by the system agreed with those of humans.',\n",
              " 'In this paper, we define a measure called success rate to evaluate the performance of our sentence reduction program.The system reduces the length of a 500 sentence by 32.7% (based on the number of words), while humans reduce it by 41.8%.The system also reduces the number of nodes in a sentence that are not part of the verb phrase.',\n",
              " \"The reduction algorithm we present assumes generic summarization; that is, we want to generate a summary that includes the most important information in an article.We extended our sentence reduction program to query-based summarization by adding another step in the algorithm to measure the relevance of users' queries to phrases in the sentence.\",\n",
              " 'Our system makes intelligent reduction decisions based on multiple sources of knowledge, including syntactic knowledge, context, and probabilities computed from corpus analysis.The evaluation shows that 81.3% of reduction decisions made by the system agreed with those of humans.We would like to integrate our sentence reduction system with extraction-based summarization systems other than the one we have developed.']"
            ]
          },
          "metadata": {},
          "execution_count": 54
        }
      ]
    },
    {
      "cell_type": "code",
      "source": [
        "pred_params = {\n",
        "        'max_seq_length': 512,\n",
        "        'use_multiprocessed_decoding': False\n",
        "        }\n",
        "\n",
        "model = T5Model('t5', \"/content/drive/MyDrive/ColabNotebooks/outputs/simplet5-epoch-49-train-loss-0.0174-val-loss-2.6444\", args=pred_params, use_gpu=True) \n",
        "pred = model.predict(list(test['source_text']))\n"
      ],
      "metadata": {
        "colab": {
          "base_uri": "https://localhost:8080/",
          "height": 327,
          "referenced_widgets": [
            "3a1485ca580b470c850de76fc2478fa1",
            "32d9161ee7864c12a0d60989c58f8109",
            "78680c4d2dfd4ffdac0183bc45dc3b79",
            "410165d103b14628b4614392646d84b3",
            "6a718c1125a34c068bf1be96640ba607",
            "8eaf945510784dec94c1e963c740b534",
            "b74c104f1f8e4a0cab357526d5525baf",
            "696a3a588c3d44759c232d879c05c1ef",
            "90756ddc7db94fba8fd92b8d915eb7cd",
            "0698fd83d5da4cb387ddc24479a3fb90",
            "1a6b9378e0c047d4a9b9b71a7c5d6a84"
          ]
        },
        "id": "63T8MYEfqagR",
        "outputId": "c646db11-371f-440a-b0d6-9b3fa64b2aaf"
      },
      "execution_count": null,
      "outputs": [
        {
          "output_type": "display_data",
          "data": {
            "text/plain": [
              "Generating outputs:   0%|          | 0/2 [00:00<?, ?it/s]"
            ],
            "application/vnd.jupyter.widget-view+json": {
              "version_major": 2,
              "version_minor": 0,
              "model_id": "3a1485ca580b470c850de76fc2478fa1"
            }
          },
          "metadata": {}
        },
        {
          "output_type": "stream",
          "name": "stderr",
          "text": [
            "/usr/local/lib/python3.8/dist-packages/transformers/tokenization_utils_base.py:3478: FutureWarning: \n",
            "`prepare_seq2seq_batch` is deprecated and will be removed in version 5 of HuggingFace Transformers. Use the regular\n",
            "`__call__` method to prepare your inputs and the tokenizer under the `as_target_tokenizer` context manager to prepare\n",
            "your targets.\n",
            "\n",
            "Here is a short example:\n",
            "\n",
            "model_inputs = tokenizer(src_texts, ...)\n",
            "with tokenizer.as_target_tokenizer():\n",
            "    labels = tokenizer(tgt_texts, ...)\n",
            "model_inputs[\"labels\"] = labels[\"input_ids\"]\n",
            "\n",
            "See the documentation of your specific tokenizer for more details on the specific arguments to the tokenizer of choice.\n",
            "For a more complete example, see the implementation of `prepare_seq2seq_batch`.\n",
            "\n",
            "  warnings.warn(formatted_warning, FutureWarning)\n"
          ]
        }
      ]
    },
    {
      "cell_type": "code",
      "source": [
        "random.sample(pred, 5)"
      ],
      "metadata": {
        "colab": {
          "base_uri": "https://localhost:8080/"
        },
        "id": "2Mt9tfqftXGl",
        "outputId": "d0e98c4e-c0a7-4e0d-bcb4-50f1fa6e86f8"
      },
      "execution_count": null,
      "outputs": [
        {
          "output_type": "execute_result",
          "data": {
            "text/plain": [
              "['Sensor data exhibits all three characteristics of Big Data: Volume, Variety and Velocity.',\n",
              " 'This article proposes a novel profound level of managing framework, the MPHC, which is',\n",
              " 'Our dataset consists of 443 frontal chest x-ray images (DICOM format',\n",
              " 'Large Electronic Health Record (EHR) datasets have only recently been mined for predictive and',\n",
              " 'In this Big data era finding the hidden patterns in the available data, provides outstanding results in']"
            ]
          },
          "metadata": {},
          "execution_count": 56
        }
      ]
    },
    {
      "cell_type": "code",
      "source": [
        "!pip install -q sumeval==0.2.2\n",
        "!pip install -q nlpaug==1.1.3"
      ],
      "metadata": {
        "id": "ecY8759JglIQ",
        "colab": {
          "base_uri": "https://localhost:8080/"
        },
        "outputId": "4328d8ef-fbb7-47b3-f87c-0ccdbf8e9dc9"
      },
      "execution_count": null,
      "outputs": [
        {
          "output_type": "stream",
          "name": "stdout",
          "text": [
            "\u001b[K     |████████████████████████████████| 80 kB 7.4 MB/s \n",
            "\u001b[K     |████████████████████████████████| 118 kB 42.2 MB/s \n",
            "\u001b[?25h  Building wheel for sumeval (setup.py) ... \u001b[?25l\u001b[?25hdone\n",
            "\u001b[K     |████████████████████████████████| 394 kB 13.4 MB/s \n",
            "\u001b[?25h"
          ]
        }
      ]
    },
    {
      "cell_type": "code",
      "source": [
        "from sumeval.metrics.rouge import RougeCalculator"
      ],
      "metadata": {
        "id": "_Ha939E0fVjM"
      },
      "execution_count": null,
      "outputs": []
    },
    {
      "cell_type": "code",
      "source": [
        "# rouge = RougeCalculator(stopwords=True, lang=\"en\")\n",
        "\n",
        "# def rouge_calc(preds, targets):\n",
        "#     rouge_1 = [rouge.rouge_n(summary=preds,references=targets,n=1)]\n",
        "#     rouge_2 = [rouge.rouge_n(summary=preds,references=targets,n=2)]\n",
        "#     rouge_l = [rouge.rouge_l(summary=preds,references=targets)]\n",
        "\n",
        "#     return {\"Rouge_1\": np.array(rouge_1).mean(),\n",
        "#             \"Rouge_2\": np.array(rouge_2).mean(),\n",
        "#             \"Rouge_L\": np.array(rouge_l).mean()}"
      ],
      "metadata": {
        "id": "laSPrsQZfZEt"
      },
      "execution_count": null,
      "outputs": []
    },
    {
      "cell_type": "code",
      "source": [
        "rouge = RougeCalculator(stopwords=True, lang=\"en\")\n",
        "\n",
        "def rouge_calc(preds, targets):\n",
        "    rouge_1 = [rouge.rouge_n(summary=preds[i],references=targets[i],n=1) for i in range(len(preds))]\n",
        "    rouge_2 = [rouge.rouge_n(summary=preds[i],references=targets[i],n=2) for i in range(len(preds))]\n",
        "    rouge_l = [rouge.rouge_l(summary=preds[i],references=targets[i]) for i in range(len(preds))]\n",
        "\n",
        "    return {\"Rouge_1\": np.array(rouge_1).mean(),\n",
        "            \"Rouge_2\": np.array(rouge_2).mean(),\n",
        "            \"Rouge_L\": np.array(rouge_l).mean()}"
      ],
      "metadata": {
        "id": "GsdrWimVsmkO"
      },
      "execution_count": null,
      "outputs": []
    },
    {
      "cell_type": "code",
      "source": [
        "rouge_calc(pred, list(test['target_text']))"
      ],
      "metadata": {
        "colab": {
          "base_uri": "https://localhost:8080/"
        },
        "id": "poQl_O77hIAL",
        "outputId": "88ed4580-99ec-496d-9916-44c40a3043b5"
      },
      "execution_count": null,
      "outputs": [
        {
          "output_type": "execute_result",
          "data": {
            "text/plain": [
              "{'Rouge_1': 0.3736433361999976,\n",
              " 'Rouge_2': 0.33823345294514945,\n",
              " 'Rouge_L': 0.3736433361999976}"
            ]
          },
          "metadata": {},
          "execution_count": 61
        }
      ]
    },
    {
      "cell_type": "code",
      "source": [
        "# !zip -r /content/outputs/simplet5-epoch-49-train-loss-0.0174-val-loss-2.6444.zip /content/outputs/simplet5-epoch-49-train-loss-0.0174-val-loss-2.6444"
      ],
      "metadata": {
        "id": "t1K4o57wJlhN"
      },
      "execution_count": null,
      "outputs": []
    },
    {
      "cell_type": "code",
      "source": [
        "# from google.colab import files"
      ],
      "metadata": {
        "id": "j7bUuaj3Kl97"
      },
      "execution_count": null,
      "outputs": []
    },
    {
      "cell_type": "code",
      "source": [
        "# files.download('/content/outputs/simplet5-epoch-49-train-loss-0.0174-val-loss-2.6444.zip')"
      ],
      "metadata": {
        "id": "HRsiAphdKPiI"
      },
      "execution_count": null,
      "outputs": []
    }
  ],
  "metadata": {
    "accelerator": "GPU",
    "colab": {
      "provenance": [],
      "include_colab_link": true
    },
    "kernelspec": {
      "display_name": "Python 3",
      "name": "python3"
    },
    "language_info": {
      "name": "python"
    },
    "widgets": {
      "application/vnd.jupyter.widget-state+json": {
        "2d940b1bbaec43cd9d1a478d15f08e9a": {
          "model_module": "@jupyter-widgets/controls",
          "model_name": "HBoxModel",
          "model_module_version": "1.5.0",
          "state": {
            "_dom_classes": [],
            "_model_module": "@jupyter-widgets/controls",
            "_model_module_version": "1.5.0",
            "_model_name": "HBoxModel",
            "_view_count": null,
            "_view_module": "@jupyter-widgets/controls",
            "_view_module_version": "1.5.0",
            "_view_name": "HBoxView",
            "box_style": "",
            "children": [
              "IPY_MODEL_3ab158e6908948d79c9d577ed60f000b",
              "IPY_MODEL_3290202b3f2b4ab5a72300d96ce39288",
              "IPY_MODEL_22ea2bb15dc546f8a75beae5fe5dfeed"
            ],
            "layout": "IPY_MODEL_69840d808f82408ba55abc8dd9f00c07"
          }
        },
        "3ab158e6908948d79c9d577ed60f000b": {
          "model_module": "@jupyter-widgets/controls",
          "model_name": "HTMLModel",
          "model_module_version": "1.5.0",
          "state": {
            "_dom_classes": [],
            "_model_module": "@jupyter-widgets/controls",
            "_model_module_version": "1.5.0",
            "_model_name": "HTMLModel",
            "_view_count": null,
            "_view_module": "@jupyter-widgets/controls",
            "_view_module_version": "1.5.0",
            "_view_name": "HTMLView",
            "description": "",
            "description_tooltip": null,
            "layout": "IPY_MODEL_aa6fa4801a714fbe91c3aeab62b61096",
            "placeholder": "​",
            "style": "IPY_MODEL_19cfba7978a24b879c772487b33e7473",
            "value": "Downloading: 100%"
          }
        },
        "3290202b3f2b4ab5a72300d96ce39288": {
          "model_module": "@jupyter-widgets/controls",
          "model_name": "FloatProgressModel",
          "model_module_version": "1.5.0",
          "state": {
            "_dom_classes": [],
            "_model_module": "@jupyter-widgets/controls",
            "_model_module_version": "1.5.0",
            "_model_name": "FloatProgressModel",
            "_view_count": null,
            "_view_module": "@jupyter-widgets/controls",
            "_view_module_version": "1.5.0",
            "_view_name": "ProgressView",
            "bar_style": "success",
            "description": "",
            "description_tooltip": null,
            "layout": "IPY_MODEL_9a7fe7a892654fcf82eee2489fa8b359",
            "max": 791656,
            "min": 0,
            "orientation": "horizontal",
            "style": "IPY_MODEL_347fe0b1efa740a7992174bda91d482a",
            "value": 791656
          }
        },
        "22ea2bb15dc546f8a75beae5fe5dfeed": {
          "model_module": "@jupyter-widgets/controls",
          "model_name": "HTMLModel",
          "model_module_version": "1.5.0",
          "state": {
            "_dom_classes": [],
            "_model_module": "@jupyter-widgets/controls",
            "_model_module_version": "1.5.0",
            "_model_name": "HTMLModel",
            "_view_count": null,
            "_view_module": "@jupyter-widgets/controls",
            "_view_module_version": "1.5.0",
            "_view_name": "HTMLView",
            "description": "",
            "description_tooltip": null,
            "layout": "IPY_MODEL_b6c39c33c9134be09f184110a8015980",
            "placeholder": "​",
            "style": "IPY_MODEL_5f5df95ee82841d5b59affd4e9b97c72",
            "value": " 773k/773k [00:00&lt;00:00, 708kB/s]"
          }
        },
        "69840d808f82408ba55abc8dd9f00c07": {
          "model_module": "@jupyter-widgets/base",
          "model_name": "LayoutModel",
          "model_module_version": "1.2.0",
          "state": {
            "_model_module": "@jupyter-widgets/base",
            "_model_module_version": "1.2.0",
            "_model_name": "LayoutModel",
            "_view_count": null,
            "_view_module": "@jupyter-widgets/base",
            "_view_module_version": "1.2.0",
            "_view_name": "LayoutView",
            "align_content": null,
            "align_items": null,
            "align_self": null,
            "border": null,
            "bottom": null,
            "display": null,
            "flex": null,
            "flex_flow": null,
            "grid_area": null,
            "grid_auto_columns": null,
            "grid_auto_flow": null,
            "grid_auto_rows": null,
            "grid_column": null,
            "grid_gap": null,
            "grid_row": null,
            "grid_template_areas": null,
            "grid_template_columns": null,
            "grid_template_rows": null,
            "height": null,
            "justify_content": null,
            "justify_items": null,
            "left": null,
            "margin": null,
            "max_height": null,
            "max_width": null,
            "min_height": null,
            "min_width": null,
            "object_fit": null,
            "object_position": null,
            "order": null,
            "overflow": null,
            "overflow_x": null,
            "overflow_y": null,
            "padding": null,
            "right": null,
            "top": null,
            "visibility": null,
            "width": null
          }
        },
        "aa6fa4801a714fbe91c3aeab62b61096": {
          "model_module": "@jupyter-widgets/base",
          "model_name": "LayoutModel",
          "model_module_version": "1.2.0",
          "state": {
            "_model_module": "@jupyter-widgets/base",
            "_model_module_version": "1.2.0",
            "_model_name": "LayoutModel",
            "_view_count": null,
            "_view_module": "@jupyter-widgets/base",
            "_view_module_version": "1.2.0",
            "_view_name": "LayoutView",
            "align_content": null,
            "align_items": null,
            "align_self": null,
            "border": null,
            "bottom": null,
            "display": null,
            "flex": null,
            "flex_flow": null,
            "grid_area": null,
            "grid_auto_columns": null,
            "grid_auto_flow": null,
            "grid_auto_rows": null,
            "grid_column": null,
            "grid_gap": null,
            "grid_row": null,
            "grid_template_areas": null,
            "grid_template_columns": null,
            "grid_template_rows": null,
            "height": null,
            "justify_content": null,
            "justify_items": null,
            "left": null,
            "margin": null,
            "max_height": null,
            "max_width": null,
            "min_height": null,
            "min_width": null,
            "object_fit": null,
            "object_position": null,
            "order": null,
            "overflow": null,
            "overflow_x": null,
            "overflow_y": null,
            "padding": null,
            "right": null,
            "top": null,
            "visibility": null,
            "width": null
          }
        },
        "19cfba7978a24b879c772487b33e7473": {
          "model_module": "@jupyter-widgets/controls",
          "model_name": "DescriptionStyleModel",
          "model_module_version": "1.5.0",
          "state": {
            "_model_module": "@jupyter-widgets/controls",
            "_model_module_version": "1.5.0",
            "_model_name": "DescriptionStyleModel",
            "_view_count": null,
            "_view_module": "@jupyter-widgets/base",
            "_view_module_version": "1.2.0",
            "_view_name": "StyleView",
            "description_width": ""
          }
        },
        "9a7fe7a892654fcf82eee2489fa8b359": {
          "model_module": "@jupyter-widgets/base",
          "model_name": "LayoutModel",
          "model_module_version": "1.2.0",
          "state": {
            "_model_module": "@jupyter-widgets/base",
            "_model_module_version": "1.2.0",
            "_model_name": "LayoutModel",
            "_view_count": null,
            "_view_module": "@jupyter-widgets/base",
            "_view_module_version": "1.2.0",
            "_view_name": "LayoutView",
            "align_content": null,
            "align_items": null,
            "align_self": null,
            "border": null,
            "bottom": null,
            "display": null,
            "flex": null,
            "flex_flow": null,
            "grid_area": null,
            "grid_auto_columns": null,
            "grid_auto_flow": null,
            "grid_auto_rows": null,
            "grid_column": null,
            "grid_gap": null,
            "grid_row": null,
            "grid_template_areas": null,
            "grid_template_columns": null,
            "grid_template_rows": null,
            "height": null,
            "justify_content": null,
            "justify_items": null,
            "left": null,
            "margin": null,
            "max_height": null,
            "max_width": null,
            "min_height": null,
            "min_width": null,
            "object_fit": null,
            "object_position": null,
            "order": null,
            "overflow": null,
            "overflow_x": null,
            "overflow_y": null,
            "padding": null,
            "right": null,
            "top": null,
            "visibility": null,
            "width": null
          }
        },
        "347fe0b1efa740a7992174bda91d482a": {
          "model_module": "@jupyter-widgets/controls",
          "model_name": "ProgressStyleModel",
          "model_module_version": "1.5.0",
          "state": {
            "_model_module": "@jupyter-widgets/controls",
            "_model_module_version": "1.5.0",
            "_model_name": "ProgressStyleModel",
            "_view_count": null,
            "_view_module": "@jupyter-widgets/base",
            "_view_module_version": "1.2.0",
            "_view_name": "StyleView",
            "bar_color": null,
            "description_width": ""
          }
        },
        "b6c39c33c9134be09f184110a8015980": {
          "model_module": "@jupyter-widgets/base",
          "model_name": "LayoutModel",
          "model_module_version": "1.2.0",
          "state": {
            "_model_module": "@jupyter-widgets/base",
            "_model_module_version": "1.2.0",
            "_model_name": "LayoutModel",
            "_view_count": null,
            "_view_module": "@jupyter-widgets/base",
            "_view_module_version": "1.2.0",
            "_view_name": "LayoutView",
            "align_content": null,
            "align_items": null,
            "align_self": null,
            "border": null,
            "bottom": null,
            "display": null,
            "flex": null,
            "flex_flow": null,
            "grid_area": null,
            "grid_auto_columns": null,
            "grid_auto_flow": null,
            "grid_auto_rows": null,
            "grid_column": null,
            "grid_gap": null,
            "grid_row": null,
            "grid_template_areas": null,
            "grid_template_columns": null,
            "grid_template_rows": null,
            "height": null,
            "justify_content": null,
            "justify_items": null,
            "left": null,
            "margin": null,
            "max_height": null,
            "max_width": null,
            "min_height": null,
            "min_width": null,
            "object_fit": null,
            "object_position": null,
            "order": null,
            "overflow": null,
            "overflow_x": null,
            "overflow_y": null,
            "padding": null,
            "right": null,
            "top": null,
            "visibility": null,
            "width": null
          }
        },
        "5f5df95ee82841d5b59affd4e9b97c72": {
          "model_module": "@jupyter-widgets/controls",
          "model_name": "DescriptionStyleModel",
          "model_module_version": "1.5.0",
          "state": {
            "_model_module": "@jupyter-widgets/controls",
            "_model_module_version": "1.5.0",
            "_model_name": "DescriptionStyleModel",
            "_view_count": null,
            "_view_module": "@jupyter-widgets/base",
            "_view_module_version": "1.2.0",
            "_view_name": "StyleView",
            "description_width": ""
          }
        },
        "60b43a2660b54135a357f54ecad1ae75": {
          "model_module": "@jupyter-widgets/controls",
          "model_name": "HBoxModel",
          "model_module_version": "1.5.0",
          "state": {
            "_dom_classes": [],
            "_model_module": "@jupyter-widgets/controls",
            "_model_module_version": "1.5.0",
            "_model_name": "HBoxModel",
            "_view_count": null,
            "_view_module": "@jupyter-widgets/controls",
            "_view_module_version": "1.5.0",
            "_view_name": "HBoxView",
            "box_style": "",
            "children": [
              "IPY_MODEL_7d2125602a234b029e8c53ff6c3e4af7",
              "IPY_MODEL_3498be98e8fb42709f7434c110aef6c3",
              "IPY_MODEL_6db149aba1604eaa8b65961263b3020a"
            ],
            "layout": "IPY_MODEL_762a8fe5d9b749fb8e0ab00d68dcf830"
          }
        },
        "7d2125602a234b029e8c53ff6c3e4af7": {
          "model_module": "@jupyter-widgets/controls",
          "model_name": "HTMLModel",
          "model_module_version": "1.5.0",
          "state": {
            "_dom_classes": [],
            "_model_module": "@jupyter-widgets/controls",
            "_model_module_version": "1.5.0",
            "_model_name": "HTMLModel",
            "_view_count": null,
            "_view_module": "@jupyter-widgets/controls",
            "_view_module_version": "1.5.0",
            "_view_name": "HTMLView",
            "description": "",
            "description_tooltip": null,
            "layout": "IPY_MODEL_60ccccb1b4214d50bbbfc6fed5584521",
            "placeholder": "​",
            "style": "IPY_MODEL_253e8d7df0154ff39f2cc1c0acce04ff",
            "value": "Downloading: 100%"
          }
        },
        "3498be98e8fb42709f7434c110aef6c3": {
          "model_module": "@jupyter-widgets/controls",
          "model_name": "FloatProgressModel",
          "model_module_version": "1.5.0",
          "state": {
            "_dom_classes": [],
            "_model_module": "@jupyter-widgets/controls",
            "_model_module_version": "1.5.0",
            "_model_name": "FloatProgressModel",
            "_view_count": null,
            "_view_module": "@jupyter-widgets/controls",
            "_view_module_version": "1.5.0",
            "_view_name": "ProgressView",
            "bar_style": "success",
            "description": "",
            "description_tooltip": null,
            "layout": "IPY_MODEL_14e8ee8688534f2ca4023732f1ef87f5",
            "max": 1389353,
            "min": 0,
            "orientation": "horizontal",
            "style": "IPY_MODEL_6eb7cf3846144e079f00cefe13dc5137",
            "value": 1389353
          }
        },
        "6db149aba1604eaa8b65961263b3020a": {
          "model_module": "@jupyter-widgets/controls",
          "model_name": "HTMLModel",
          "model_module_version": "1.5.0",
          "state": {
            "_dom_classes": [],
            "_model_module": "@jupyter-widgets/controls",
            "_model_module_version": "1.5.0",
            "_model_name": "HTMLModel",
            "_view_count": null,
            "_view_module": "@jupyter-widgets/controls",
            "_view_module_version": "1.5.0",
            "_view_name": "HTMLView",
            "description": "",
            "description_tooltip": null,
            "layout": "IPY_MODEL_dc26c9deffdb410e8f4aa8c5aff44ed4",
            "placeholder": "​",
            "style": "IPY_MODEL_4f7f3110dfd0414b8b17520457a7bd8f",
            "value": " 1.32M/1.32M [00:00&lt;00:00, 2.01MB/s]"
          }
        },
        "762a8fe5d9b749fb8e0ab00d68dcf830": {
          "model_module": "@jupyter-widgets/base",
          "model_name": "LayoutModel",
          "model_module_version": "1.2.0",
          "state": {
            "_model_module": "@jupyter-widgets/base",
            "_model_module_version": "1.2.0",
            "_model_name": "LayoutModel",
            "_view_count": null,
            "_view_module": "@jupyter-widgets/base",
            "_view_module_version": "1.2.0",
            "_view_name": "LayoutView",
            "align_content": null,
            "align_items": null,
            "align_self": null,
            "border": null,
            "bottom": null,
            "display": null,
            "flex": null,
            "flex_flow": null,
            "grid_area": null,
            "grid_auto_columns": null,
            "grid_auto_flow": null,
            "grid_auto_rows": null,
            "grid_column": null,
            "grid_gap": null,
            "grid_row": null,
            "grid_template_areas": null,
            "grid_template_columns": null,
            "grid_template_rows": null,
            "height": null,
            "justify_content": null,
            "justify_items": null,
            "left": null,
            "margin": null,
            "max_height": null,
            "max_width": null,
            "min_height": null,
            "min_width": null,
            "object_fit": null,
            "object_position": null,
            "order": null,
            "overflow": null,
            "overflow_x": null,
            "overflow_y": null,
            "padding": null,
            "right": null,
            "top": null,
            "visibility": null,
            "width": null
          }
        },
        "60ccccb1b4214d50bbbfc6fed5584521": {
          "model_module": "@jupyter-widgets/base",
          "model_name": "LayoutModel",
          "model_module_version": "1.2.0",
          "state": {
            "_model_module": "@jupyter-widgets/base",
            "_model_module_version": "1.2.0",
            "_model_name": "LayoutModel",
            "_view_count": null,
            "_view_module": "@jupyter-widgets/base",
            "_view_module_version": "1.2.0",
            "_view_name": "LayoutView",
            "align_content": null,
            "align_items": null,
            "align_self": null,
            "border": null,
            "bottom": null,
            "display": null,
            "flex": null,
            "flex_flow": null,
            "grid_area": null,
            "grid_auto_columns": null,
            "grid_auto_flow": null,
            "grid_auto_rows": null,
            "grid_column": null,
            "grid_gap": null,
            "grid_row": null,
            "grid_template_areas": null,
            "grid_template_columns": null,
            "grid_template_rows": null,
            "height": null,
            "justify_content": null,
            "justify_items": null,
            "left": null,
            "margin": null,
            "max_height": null,
            "max_width": null,
            "min_height": null,
            "min_width": null,
            "object_fit": null,
            "object_position": null,
            "order": null,
            "overflow": null,
            "overflow_x": null,
            "overflow_y": null,
            "padding": null,
            "right": null,
            "top": null,
            "visibility": null,
            "width": null
          }
        },
        "253e8d7df0154ff39f2cc1c0acce04ff": {
          "model_module": "@jupyter-widgets/controls",
          "model_name": "DescriptionStyleModel",
          "model_module_version": "1.5.0",
          "state": {
            "_model_module": "@jupyter-widgets/controls",
            "_model_module_version": "1.5.0",
            "_model_name": "DescriptionStyleModel",
            "_view_count": null,
            "_view_module": "@jupyter-widgets/base",
            "_view_module_version": "1.2.0",
            "_view_name": "StyleView",
            "description_width": ""
          }
        },
        "14e8ee8688534f2ca4023732f1ef87f5": {
          "model_module": "@jupyter-widgets/base",
          "model_name": "LayoutModel",
          "model_module_version": "1.2.0",
          "state": {
            "_model_module": "@jupyter-widgets/base",
            "_model_module_version": "1.2.0",
            "_model_name": "LayoutModel",
            "_view_count": null,
            "_view_module": "@jupyter-widgets/base",
            "_view_module_version": "1.2.0",
            "_view_name": "LayoutView",
            "align_content": null,
            "align_items": null,
            "align_self": null,
            "border": null,
            "bottom": null,
            "display": null,
            "flex": null,
            "flex_flow": null,
            "grid_area": null,
            "grid_auto_columns": null,
            "grid_auto_flow": null,
            "grid_auto_rows": null,
            "grid_column": null,
            "grid_gap": null,
            "grid_row": null,
            "grid_template_areas": null,
            "grid_template_columns": null,
            "grid_template_rows": null,
            "height": null,
            "justify_content": null,
            "justify_items": null,
            "left": null,
            "margin": null,
            "max_height": null,
            "max_width": null,
            "min_height": null,
            "min_width": null,
            "object_fit": null,
            "object_position": null,
            "order": null,
            "overflow": null,
            "overflow_x": null,
            "overflow_y": null,
            "padding": null,
            "right": null,
            "top": null,
            "visibility": null,
            "width": null
          }
        },
        "6eb7cf3846144e079f00cefe13dc5137": {
          "model_module": "@jupyter-widgets/controls",
          "model_name": "ProgressStyleModel",
          "model_module_version": "1.5.0",
          "state": {
            "_model_module": "@jupyter-widgets/controls",
            "_model_module_version": "1.5.0",
            "_model_name": "ProgressStyleModel",
            "_view_count": null,
            "_view_module": "@jupyter-widgets/base",
            "_view_module_version": "1.2.0",
            "_view_name": "StyleView",
            "bar_color": null,
            "description_width": ""
          }
        },
        "dc26c9deffdb410e8f4aa8c5aff44ed4": {
          "model_module": "@jupyter-widgets/base",
          "model_name": "LayoutModel",
          "model_module_version": "1.2.0",
          "state": {
            "_model_module": "@jupyter-widgets/base",
            "_model_module_version": "1.2.0",
            "_model_name": "LayoutModel",
            "_view_count": null,
            "_view_module": "@jupyter-widgets/base",
            "_view_module_version": "1.2.0",
            "_view_name": "LayoutView",
            "align_content": null,
            "align_items": null,
            "align_self": null,
            "border": null,
            "bottom": null,
            "display": null,
            "flex": null,
            "flex_flow": null,
            "grid_area": null,
            "grid_auto_columns": null,
            "grid_auto_flow": null,
            "grid_auto_rows": null,
            "grid_column": null,
            "grid_gap": null,
            "grid_row": null,
            "grid_template_areas": null,
            "grid_template_columns": null,
            "grid_template_rows": null,
            "height": null,
            "justify_content": null,
            "justify_items": null,
            "left": null,
            "margin": null,
            "max_height": null,
            "max_width": null,
            "min_height": null,
            "min_width": null,
            "object_fit": null,
            "object_position": null,
            "order": null,
            "overflow": null,
            "overflow_x": null,
            "overflow_y": null,
            "padding": null,
            "right": null,
            "top": null,
            "visibility": null,
            "width": null
          }
        },
        "4f7f3110dfd0414b8b17520457a7bd8f": {
          "model_module": "@jupyter-widgets/controls",
          "model_name": "DescriptionStyleModel",
          "model_module_version": "1.5.0",
          "state": {
            "_model_module": "@jupyter-widgets/controls",
            "_model_module_version": "1.5.0",
            "_model_name": "DescriptionStyleModel",
            "_view_count": null,
            "_view_module": "@jupyter-widgets/base",
            "_view_module_version": "1.2.0",
            "_view_name": "StyleView",
            "description_width": ""
          }
        },
        "d9406e0ced61412eb36306ebcbfdcbf2": {
          "model_module": "@jupyter-widgets/controls",
          "model_name": "HBoxModel",
          "model_module_version": "1.5.0",
          "state": {
            "_dom_classes": [],
            "_model_module": "@jupyter-widgets/controls",
            "_model_module_version": "1.5.0",
            "_model_name": "HBoxModel",
            "_view_count": null,
            "_view_module": "@jupyter-widgets/controls",
            "_view_module_version": "1.5.0",
            "_view_name": "HBoxView",
            "box_style": "",
            "children": [
              "IPY_MODEL_dd4ff42ad0404866b47e68992d600945",
              "IPY_MODEL_b3a5dc524bd34673966182fd33356215",
              "IPY_MODEL_57ca4a52b4744dcd9fe3add7ae8b2bbc"
            ],
            "layout": "IPY_MODEL_b8b18564b8104d4c87ae14041f8650cd"
          }
        },
        "dd4ff42ad0404866b47e68992d600945": {
          "model_module": "@jupyter-widgets/controls",
          "model_name": "HTMLModel",
          "model_module_version": "1.5.0",
          "state": {
            "_dom_classes": [],
            "_model_module": "@jupyter-widgets/controls",
            "_model_module_version": "1.5.0",
            "_model_name": "HTMLModel",
            "_view_count": null,
            "_view_module": "@jupyter-widgets/controls",
            "_view_module_version": "1.5.0",
            "_view_name": "HTMLView",
            "description": "",
            "description_tooltip": null,
            "layout": "IPY_MODEL_8fbc650f8def4f3c8af664550c597e83",
            "placeholder": "​",
            "style": "IPY_MODEL_ccd043b49ed2445f82624d2952b5f1f0",
            "value": "Downloading: 100%"
          }
        },
        "b3a5dc524bd34673966182fd33356215": {
          "model_module": "@jupyter-widgets/controls",
          "model_name": "FloatProgressModel",
          "model_module_version": "1.5.0",
          "state": {
            "_dom_classes": [],
            "_model_module": "@jupyter-widgets/controls",
            "_model_module_version": "1.5.0",
            "_model_name": "FloatProgressModel",
            "_view_count": null,
            "_view_module": "@jupyter-widgets/controls",
            "_view_module_version": "1.5.0",
            "_view_name": "ProgressView",
            "bar_style": "success",
            "description": "",
            "description_tooltip": null,
            "layout": "IPY_MODEL_f5eb1b1e18674955947eafc66f8f7168",
            "max": 1199,
            "min": 0,
            "orientation": "horizontal",
            "style": "IPY_MODEL_eece35be653a499982cca59e6d705942",
            "value": 1199
          }
        },
        "57ca4a52b4744dcd9fe3add7ae8b2bbc": {
          "model_module": "@jupyter-widgets/controls",
          "model_name": "HTMLModel",
          "model_module_version": "1.5.0",
          "state": {
            "_dom_classes": [],
            "_model_module": "@jupyter-widgets/controls",
            "_model_module_version": "1.5.0",
            "_model_name": "HTMLModel",
            "_view_count": null,
            "_view_module": "@jupyter-widgets/controls",
            "_view_module_version": "1.5.0",
            "_view_name": "HTMLView",
            "description": "",
            "description_tooltip": null,
            "layout": "IPY_MODEL_e79755e3d9d04f069fcdfd8270b2a2d2",
            "placeholder": "​",
            "style": "IPY_MODEL_28791de6bfe34cba84a1958d302d2807",
            "value": " 1.17k/1.17k [00:00&lt;00:00, 8.87kB/s]"
          }
        },
        "b8b18564b8104d4c87ae14041f8650cd": {
          "model_module": "@jupyter-widgets/base",
          "model_name": "LayoutModel",
          "model_module_version": "1.2.0",
          "state": {
            "_model_module": "@jupyter-widgets/base",
            "_model_module_version": "1.2.0",
            "_model_name": "LayoutModel",
            "_view_count": null,
            "_view_module": "@jupyter-widgets/base",
            "_view_module_version": "1.2.0",
            "_view_name": "LayoutView",
            "align_content": null,
            "align_items": null,
            "align_self": null,
            "border": null,
            "bottom": null,
            "display": null,
            "flex": null,
            "flex_flow": null,
            "grid_area": null,
            "grid_auto_columns": null,
            "grid_auto_flow": null,
            "grid_auto_rows": null,
            "grid_column": null,
            "grid_gap": null,
            "grid_row": null,
            "grid_template_areas": null,
            "grid_template_columns": null,
            "grid_template_rows": null,
            "height": null,
            "justify_content": null,
            "justify_items": null,
            "left": null,
            "margin": null,
            "max_height": null,
            "max_width": null,
            "min_height": null,
            "min_width": null,
            "object_fit": null,
            "object_position": null,
            "order": null,
            "overflow": null,
            "overflow_x": null,
            "overflow_y": null,
            "padding": null,
            "right": null,
            "top": null,
            "visibility": null,
            "width": null
          }
        },
        "8fbc650f8def4f3c8af664550c597e83": {
          "model_module": "@jupyter-widgets/base",
          "model_name": "LayoutModel",
          "model_module_version": "1.2.0",
          "state": {
            "_model_module": "@jupyter-widgets/base",
            "_model_module_version": "1.2.0",
            "_model_name": "LayoutModel",
            "_view_count": null,
            "_view_module": "@jupyter-widgets/base",
            "_view_module_version": "1.2.0",
            "_view_name": "LayoutView",
            "align_content": null,
            "align_items": null,
            "align_self": null,
            "border": null,
            "bottom": null,
            "display": null,
            "flex": null,
            "flex_flow": null,
            "grid_area": null,
            "grid_auto_columns": null,
            "grid_auto_flow": null,
            "grid_auto_rows": null,
            "grid_column": null,
            "grid_gap": null,
            "grid_row": null,
            "grid_template_areas": null,
            "grid_template_columns": null,
            "grid_template_rows": null,
            "height": null,
            "justify_content": null,
            "justify_items": null,
            "left": null,
            "margin": null,
            "max_height": null,
            "max_width": null,
            "min_height": null,
            "min_width": null,
            "object_fit": null,
            "object_position": null,
            "order": null,
            "overflow": null,
            "overflow_x": null,
            "overflow_y": null,
            "padding": null,
            "right": null,
            "top": null,
            "visibility": null,
            "width": null
          }
        },
        "ccd043b49ed2445f82624d2952b5f1f0": {
          "model_module": "@jupyter-widgets/controls",
          "model_name": "DescriptionStyleModel",
          "model_module_version": "1.5.0",
          "state": {
            "_model_module": "@jupyter-widgets/controls",
            "_model_module_version": "1.5.0",
            "_model_name": "DescriptionStyleModel",
            "_view_count": null,
            "_view_module": "@jupyter-widgets/base",
            "_view_module_version": "1.2.0",
            "_view_name": "StyleView",
            "description_width": ""
          }
        },
        "f5eb1b1e18674955947eafc66f8f7168": {
          "model_module": "@jupyter-widgets/base",
          "model_name": "LayoutModel",
          "model_module_version": "1.2.0",
          "state": {
            "_model_module": "@jupyter-widgets/base",
            "_model_module_version": "1.2.0",
            "_model_name": "LayoutModel",
            "_view_count": null,
            "_view_module": "@jupyter-widgets/base",
            "_view_module_version": "1.2.0",
            "_view_name": "LayoutView",
            "align_content": null,
            "align_items": null,
            "align_self": null,
            "border": null,
            "bottom": null,
            "display": null,
            "flex": null,
            "flex_flow": null,
            "grid_area": null,
            "grid_auto_columns": null,
            "grid_auto_flow": null,
            "grid_auto_rows": null,
            "grid_column": null,
            "grid_gap": null,
            "grid_row": null,
            "grid_template_areas": null,
            "grid_template_columns": null,
            "grid_template_rows": null,
            "height": null,
            "justify_content": null,
            "justify_items": null,
            "left": null,
            "margin": null,
            "max_height": null,
            "max_width": null,
            "min_height": null,
            "min_width": null,
            "object_fit": null,
            "object_position": null,
            "order": null,
            "overflow": null,
            "overflow_x": null,
            "overflow_y": null,
            "padding": null,
            "right": null,
            "top": null,
            "visibility": null,
            "width": null
          }
        },
        "eece35be653a499982cca59e6d705942": {
          "model_module": "@jupyter-widgets/controls",
          "model_name": "ProgressStyleModel",
          "model_module_version": "1.5.0",
          "state": {
            "_model_module": "@jupyter-widgets/controls",
            "_model_module_version": "1.5.0",
            "_model_name": "ProgressStyleModel",
            "_view_count": null,
            "_view_module": "@jupyter-widgets/base",
            "_view_module_version": "1.2.0",
            "_view_name": "StyleView",
            "bar_color": null,
            "description_width": ""
          }
        },
        "e79755e3d9d04f069fcdfd8270b2a2d2": {
          "model_module": "@jupyter-widgets/base",
          "model_name": "LayoutModel",
          "model_module_version": "1.2.0",
          "state": {
            "_model_module": "@jupyter-widgets/base",
            "_model_module_version": "1.2.0",
            "_model_name": "LayoutModel",
            "_view_count": null,
            "_view_module": "@jupyter-widgets/base",
            "_view_module_version": "1.2.0",
            "_view_name": "LayoutView",
            "align_content": null,
            "align_items": null,
            "align_self": null,
            "border": null,
            "bottom": null,
            "display": null,
            "flex": null,
            "flex_flow": null,
            "grid_area": null,
            "grid_auto_columns": null,
            "grid_auto_flow": null,
            "grid_auto_rows": null,
            "grid_column": null,
            "grid_gap": null,
            "grid_row": null,
            "grid_template_areas": null,
            "grid_template_columns": null,
            "grid_template_rows": null,
            "height": null,
            "justify_content": null,
            "justify_items": null,
            "left": null,
            "margin": null,
            "max_height": null,
            "max_width": null,
            "min_height": null,
            "min_width": null,
            "object_fit": null,
            "object_position": null,
            "order": null,
            "overflow": null,
            "overflow_x": null,
            "overflow_y": null,
            "padding": null,
            "right": null,
            "top": null,
            "visibility": null,
            "width": null
          }
        },
        "28791de6bfe34cba84a1958d302d2807": {
          "model_module": "@jupyter-widgets/controls",
          "model_name": "DescriptionStyleModel",
          "model_module_version": "1.5.0",
          "state": {
            "_model_module": "@jupyter-widgets/controls",
            "_model_module_version": "1.5.0",
            "_model_name": "DescriptionStyleModel",
            "_view_count": null,
            "_view_module": "@jupyter-widgets/base",
            "_view_module_version": "1.2.0",
            "_view_name": "StyleView",
            "description_width": ""
          }
        },
        "dfc83e61a3ec465489c44068ad3d57d8": {
          "model_module": "@jupyter-widgets/controls",
          "model_name": "HBoxModel",
          "model_module_version": "1.5.0",
          "state": {
            "_dom_classes": [],
            "_model_module": "@jupyter-widgets/controls",
            "_model_module_version": "1.5.0",
            "_model_name": "HBoxModel",
            "_view_count": null,
            "_view_module": "@jupyter-widgets/controls",
            "_view_module_version": "1.5.0",
            "_view_name": "HBoxView",
            "box_style": "",
            "children": [
              "IPY_MODEL_b74c736bd87344ec895c6ecd517ff187",
              "IPY_MODEL_0aaf0dd532b14a66936e8b1373bcba89",
              "IPY_MODEL_b991bb7fc7ec45a99ca0ec25030531b2"
            ],
            "layout": "IPY_MODEL_7643eb17f9c0406590155d1f0dda38fd"
          }
        },
        "b74c736bd87344ec895c6ecd517ff187": {
          "model_module": "@jupyter-widgets/controls",
          "model_name": "HTMLModel",
          "model_module_version": "1.5.0",
          "state": {
            "_dom_classes": [],
            "_model_module": "@jupyter-widgets/controls",
            "_model_module_version": "1.5.0",
            "_model_name": "HTMLModel",
            "_view_count": null,
            "_view_module": "@jupyter-widgets/controls",
            "_view_module_version": "1.5.0",
            "_view_name": "HTMLView",
            "description": "",
            "description_tooltip": null,
            "layout": "IPY_MODEL_6ada0ebfdb1c4730a4df4a98f571fa05",
            "placeholder": "​",
            "style": "IPY_MODEL_d13c4e1bc0294980838946712e2fe6d7",
            "value": "Downloading: 100%"
          }
        },
        "0aaf0dd532b14a66936e8b1373bcba89": {
          "model_module": "@jupyter-widgets/controls",
          "model_name": "FloatProgressModel",
          "model_module_version": "1.5.0",
          "state": {
            "_dom_classes": [],
            "_model_module": "@jupyter-widgets/controls",
            "_model_module_version": "1.5.0",
            "_model_name": "FloatProgressModel",
            "_view_count": null,
            "_view_module": "@jupyter-widgets/controls",
            "_view_module_version": "1.5.0",
            "_view_name": "ProgressView",
            "bar_style": "success",
            "description": "",
            "description_tooltip": null,
            "layout": "IPY_MODEL_297a404cc97944bdaae6dcfb26605219",
            "max": 891691430,
            "min": 0,
            "orientation": "horizontal",
            "style": "IPY_MODEL_15e0172ac7614798915923a28fd4367d",
            "value": 891691430
          }
        },
        "b991bb7fc7ec45a99ca0ec25030531b2": {
          "model_module": "@jupyter-widgets/controls",
          "model_name": "HTMLModel",
          "model_module_version": "1.5.0",
          "state": {
            "_dom_classes": [],
            "_model_module": "@jupyter-widgets/controls",
            "_model_module_version": "1.5.0",
            "_model_name": "HTMLModel",
            "_view_count": null,
            "_view_module": "@jupyter-widgets/controls",
            "_view_module_version": "1.5.0",
            "_view_name": "HTMLView",
            "description": "",
            "description_tooltip": null,
            "layout": "IPY_MODEL_b8d5818f99e944ff88240e1152728861",
            "placeholder": "​",
            "style": "IPY_MODEL_730abe7e5f1b49048c8bd7deb80c384a",
            "value": " 850M/850M [00:17&lt;00:00, 85.7MB/s]"
          }
        },
        "7643eb17f9c0406590155d1f0dda38fd": {
          "model_module": "@jupyter-widgets/base",
          "model_name": "LayoutModel",
          "model_module_version": "1.2.0",
          "state": {
            "_model_module": "@jupyter-widgets/base",
            "_model_module_version": "1.2.0",
            "_model_name": "LayoutModel",
            "_view_count": null,
            "_view_module": "@jupyter-widgets/base",
            "_view_module_version": "1.2.0",
            "_view_name": "LayoutView",
            "align_content": null,
            "align_items": null,
            "align_self": null,
            "border": null,
            "bottom": null,
            "display": null,
            "flex": null,
            "flex_flow": null,
            "grid_area": null,
            "grid_auto_columns": null,
            "grid_auto_flow": null,
            "grid_auto_rows": null,
            "grid_column": null,
            "grid_gap": null,
            "grid_row": null,
            "grid_template_areas": null,
            "grid_template_columns": null,
            "grid_template_rows": null,
            "height": null,
            "justify_content": null,
            "justify_items": null,
            "left": null,
            "margin": null,
            "max_height": null,
            "max_width": null,
            "min_height": null,
            "min_width": null,
            "object_fit": null,
            "object_position": null,
            "order": null,
            "overflow": null,
            "overflow_x": null,
            "overflow_y": null,
            "padding": null,
            "right": null,
            "top": null,
            "visibility": null,
            "width": null
          }
        },
        "6ada0ebfdb1c4730a4df4a98f571fa05": {
          "model_module": "@jupyter-widgets/base",
          "model_name": "LayoutModel",
          "model_module_version": "1.2.0",
          "state": {
            "_model_module": "@jupyter-widgets/base",
            "_model_module_version": "1.2.0",
            "_model_name": "LayoutModel",
            "_view_count": null,
            "_view_module": "@jupyter-widgets/base",
            "_view_module_version": "1.2.0",
            "_view_name": "LayoutView",
            "align_content": null,
            "align_items": null,
            "align_self": null,
            "border": null,
            "bottom": null,
            "display": null,
            "flex": null,
            "flex_flow": null,
            "grid_area": null,
            "grid_auto_columns": null,
            "grid_auto_flow": null,
            "grid_auto_rows": null,
            "grid_column": null,
            "grid_gap": null,
            "grid_row": null,
            "grid_template_areas": null,
            "grid_template_columns": null,
            "grid_template_rows": null,
            "height": null,
            "justify_content": null,
            "justify_items": null,
            "left": null,
            "margin": null,
            "max_height": null,
            "max_width": null,
            "min_height": null,
            "min_width": null,
            "object_fit": null,
            "object_position": null,
            "order": null,
            "overflow": null,
            "overflow_x": null,
            "overflow_y": null,
            "padding": null,
            "right": null,
            "top": null,
            "visibility": null,
            "width": null
          }
        },
        "d13c4e1bc0294980838946712e2fe6d7": {
          "model_module": "@jupyter-widgets/controls",
          "model_name": "DescriptionStyleModel",
          "model_module_version": "1.5.0",
          "state": {
            "_model_module": "@jupyter-widgets/controls",
            "_model_module_version": "1.5.0",
            "_model_name": "DescriptionStyleModel",
            "_view_count": null,
            "_view_module": "@jupyter-widgets/base",
            "_view_module_version": "1.2.0",
            "_view_name": "StyleView",
            "description_width": ""
          }
        },
        "297a404cc97944bdaae6dcfb26605219": {
          "model_module": "@jupyter-widgets/base",
          "model_name": "LayoutModel",
          "model_module_version": "1.2.0",
          "state": {
            "_model_module": "@jupyter-widgets/base",
            "_model_module_version": "1.2.0",
            "_model_name": "LayoutModel",
            "_view_count": null,
            "_view_module": "@jupyter-widgets/base",
            "_view_module_version": "1.2.0",
            "_view_name": "LayoutView",
            "align_content": null,
            "align_items": null,
            "align_self": null,
            "border": null,
            "bottom": null,
            "display": null,
            "flex": null,
            "flex_flow": null,
            "grid_area": null,
            "grid_auto_columns": null,
            "grid_auto_flow": null,
            "grid_auto_rows": null,
            "grid_column": null,
            "grid_gap": null,
            "grid_row": null,
            "grid_template_areas": null,
            "grid_template_columns": null,
            "grid_template_rows": null,
            "height": null,
            "justify_content": null,
            "justify_items": null,
            "left": null,
            "margin": null,
            "max_height": null,
            "max_width": null,
            "min_height": null,
            "min_width": null,
            "object_fit": null,
            "object_position": null,
            "order": null,
            "overflow": null,
            "overflow_x": null,
            "overflow_y": null,
            "padding": null,
            "right": null,
            "top": null,
            "visibility": null,
            "width": null
          }
        },
        "15e0172ac7614798915923a28fd4367d": {
          "model_module": "@jupyter-widgets/controls",
          "model_name": "ProgressStyleModel",
          "model_module_version": "1.5.0",
          "state": {
            "_model_module": "@jupyter-widgets/controls",
            "_model_module_version": "1.5.0",
            "_model_name": "ProgressStyleModel",
            "_view_count": null,
            "_view_module": "@jupyter-widgets/base",
            "_view_module_version": "1.2.0",
            "_view_name": "StyleView",
            "bar_color": null,
            "description_width": ""
          }
        },
        "b8d5818f99e944ff88240e1152728861": {
          "model_module": "@jupyter-widgets/base",
          "model_name": "LayoutModel",
          "model_module_version": "1.2.0",
          "state": {
            "_model_module": "@jupyter-widgets/base",
            "_model_module_version": "1.2.0",
            "_model_name": "LayoutModel",
            "_view_count": null,
            "_view_module": "@jupyter-widgets/base",
            "_view_module_version": "1.2.0",
            "_view_name": "LayoutView",
            "align_content": null,
            "align_items": null,
            "align_self": null,
            "border": null,
            "bottom": null,
            "display": null,
            "flex": null,
            "flex_flow": null,
            "grid_area": null,
            "grid_auto_columns": null,
            "grid_auto_flow": null,
            "grid_auto_rows": null,
            "grid_column": null,
            "grid_gap": null,
            "grid_row": null,
            "grid_template_areas": null,
            "grid_template_columns": null,
            "grid_template_rows": null,
            "height": null,
            "justify_content": null,
            "justify_items": null,
            "left": null,
            "margin": null,
            "max_height": null,
            "max_width": null,
            "min_height": null,
            "min_width": null,
            "object_fit": null,
            "object_position": null,
            "order": null,
            "overflow": null,
            "overflow_x": null,
            "overflow_y": null,
            "padding": null,
            "right": null,
            "top": null,
            "visibility": null,
            "width": null
          }
        },
        "730abe7e5f1b49048c8bd7deb80c384a": {
          "model_module": "@jupyter-widgets/controls",
          "model_name": "DescriptionStyleModel",
          "model_module_version": "1.5.0",
          "state": {
            "_model_module": "@jupyter-widgets/controls",
            "_model_module_version": "1.5.0",
            "_model_name": "DescriptionStyleModel",
            "_view_count": null,
            "_view_module": "@jupyter-widgets/base",
            "_view_module_version": "1.2.0",
            "_view_name": "StyleView",
            "description_width": ""
          }
        },
        "3a1485ca580b470c850de76fc2478fa1": {
          "model_module": "@jupyter-widgets/controls",
          "model_name": "HBoxModel",
          "model_module_version": "1.5.0",
          "state": {
            "_dom_classes": [],
            "_model_module": "@jupyter-widgets/controls",
            "_model_module_version": "1.5.0",
            "_model_name": "HBoxModel",
            "_view_count": null,
            "_view_module": "@jupyter-widgets/controls",
            "_view_module_version": "1.5.0",
            "_view_name": "HBoxView",
            "box_style": "",
            "children": [
              "IPY_MODEL_32d9161ee7864c12a0d60989c58f8109",
              "IPY_MODEL_78680c4d2dfd4ffdac0183bc45dc3b79",
              "IPY_MODEL_410165d103b14628b4614392646d84b3"
            ],
            "layout": "IPY_MODEL_6a718c1125a34c068bf1be96640ba607"
          }
        },
        "32d9161ee7864c12a0d60989c58f8109": {
          "model_module": "@jupyter-widgets/controls",
          "model_name": "HTMLModel",
          "model_module_version": "1.5.0",
          "state": {
            "_dom_classes": [],
            "_model_module": "@jupyter-widgets/controls",
            "_model_module_version": "1.5.0",
            "_model_name": "HTMLModel",
            "_view_count": null,
            "_view_module": "@jupyter-widgets/controls",
            "_view_module_version": "1.5.0",
            "_view_name": "HTMLView",
            "description": "",
            "description_tooltip": null,
            "layout": "IPY_MODEL_8eaf945510784dec94c1e963c740b534",
            "placeholder": "​",
            "style": "IPY_MODEL_b74c104f1f8e4a0cab357526d5525baf",
            "value": "Generating outputs: 100%"
          }
        },
        "78680c4d2dfd4ffdac0183bc45dc3b79": {
          "model_module": "@jupyter-widgets/controls",
          "model_name": "FloatProgressModel",
          "model_module_version": "1.5.0",
          "state": {
            "_dom_classes": [],
            "_model_module": "@jupyter-widgets/controls",
            "_model_module_version": "1.5.0",
            "_model_name": "FloatProgressModel",
            "_view_count": null,
            "_view_module": "@jupyter-widgets/controls",
            "_view_module_version": "1.5.0",
            "_view_name": "ProgressView",
            "bar_style": "success",
            "description": "",
            "description_tooltip": null,
            "layout": "IPY_MODEL_696a3a588c3d44759c232d879c05c1ef",
            "max": 2,
            "min": 0,
            "orientation": "horizontal",
            "style": "IPY_MODEL_90756ddc7db94fba8fd92b8d915eb7cd",
            "value": 2
          }
        },
        "410165d103b14628b4614392646d84b3": {
          "model_module": "@jupyter-widgets/controls",
          "model_name": "HTMLModel",
          "model_module_version": "1.5.0",
          "state": {
            "_dom_classes": [],
            "_model_module": "@jupyter-widgets/controls",
            "_model_module_version": "1.5.0",
            "_model_name": "HTMLModel",
            "_view_count": null,
            "_view_module": "@jupyter-widgets/controls",
            "_view_module_version": "1.5.0",
            "_view_name": "HTMLView",
            "description": "",
            "description_tooltip": null,
            "layout": "IPY_MODEL_0698fd83d5da4cb387ddc24479a3fb90",
            "placeholder": "​",
            "style": "IPY_MODEL_1a6b9378e0c047d4a9b9b71a7c5d6a84",
            "value": " 2/2 [00:01&lt;00:00,  1.74it/s]"
          }
        },
        "6a718c1125a34c068bf1be96640ba607": {
          "model_module": "@jupyter-widgets/base",
          "model_name": "LayoutModel",
          "model_module_version": "1.2.0",
          "state": {
            "_model_module": "@jupyter-widgets/base",
            "_model_module_version": "1.2.0",
            "_model_name": "LayoutModel",
            "_view_count": null,
            "_view_module": "@jupyter-widgets/base",
            "_view_module_version": "1.2.0",
            "_view_name": "LayoutView",
            "align_content": null,
            "align_items": null,
            "align_self": null,
            "border": null,
            "bottom": null,
            "display": null,
            "flex": null,
            "flex_flow": null,
            "grid_area": null,
            "grid_auto_columns": null,
            "grid_auto_flow": null,
            "grid_auto_rows": null,
            "grid_column": null,
            "grid_gap": null,
            "grid_row": null,
            "grid_template_areas": null,
            "grid_template_columns": null,
            "grid_template_rows": null,
            "height": null,
            "justify_content": null,
            "justify_items": null,
            "left": null,
            "margin": null,
            "max_height": null,
            "max_width": null,
            "min_height": null,
            "min_width": null,
            "object_fit": null,
            "object_position": null,
            "order": null,
            "overflow": null,
            "overflow_x": null,
            "overflow_y": null,
            "padding": null,
            "right": null,
            "top": null,
            "visibility": null,
            "width": null
          }
        },
        "8eaf945510784dec94c1e963c740b534": {
          "model_module": "@jupyter-widgets/base",
          "model_name": "LayoutModel",
          "model_module_version": "1.2.0",
          "state": {
            "_model_module": "@jupyter-widgets/base",
            "_model_module_version": "1.2.0",
            "_model_name": "LayoutModel",
            "_view_count": null,
            "_view_module": "@jupyter-widgets/base",
            "_view_module_version": "1.2.0",
            "_view_name": "LayoutView",
            "align_content": null,
            "align_items": null,
            "align_self": null,
            "border": null,
            "bottom": null,
            "display": null,
            "flex": null,
            "flex_flow": null,
            "grid_area": null,
            "grid_auto_columns": null,
            "grid_auto_flow": null,
            "grid_auto_rows": null,
            "grid_column": null,
            "grid_gap": null,
            "grid_row": null,
            "grid_template_areas": null,
            "grid_template_columns": null,
            "grid_template_rows": null,
            "height": null,
            "justify_content": null,
            "justify_items": null,
            "left": null,
            "margin": null,
            "max_height": null,
            "max_width": null,
            "min_height": null,
            "min_width": null,
            "object_fit": null,
            "object_position": null,
            "order": null,
            "overflow": null,
            "overflow_x": null,
            "overflow_y": null,
            "padding": null,
            "right": null,
            "top": null,
            "visibility": null,
            "width": null
          }
        },
        "b74c104f1f8e4a0cab357526d5525baf": {
          "model_module": "@jupyter-widgets/controls",
          "model_name": "DescriptionStyleModel",
          "model_module_version": "1.5.0",
          "state": {
            "_model_module": "@jupyter-widgets/controls",
            "_model_module_version": "1.5.0",
            "_model_name": "DescriptionStyleModel",
            "_view_count": null,
            "_view_module": "@jupyter-widgets/base",
            "_view_module_version": "1.2.0",
            "_view_name": "StyleView",
            "description_width": ""
          }
        },
        "696a3a588c3d44759c232d879c05c1ef": {
          "model_module": "@jupyter-widgets/base",
          "model_name": "LayoutModel",
          "model_module_version": "1.2.0",
          "state": {
            "_model_module": "@jupyter-widgets/base",
            "_model_module_version": "1.2.0",
            "_model_name": "LayoutModel",
            "_view_count": null,
            "_view_module": "@jupyter-widgets/base",
            "_view_module_version": "1.2.0",
            "_view_name": "LayoutView",
            "align_content": null,
            "align_items": null,
            "align_self": null,
            "border": null,
            "bottom": null,
            "display": null,
            "flex": null,
            "flex_flow": null,
            "grid_area": null,
            "grid_auto_columns": null,
            "grid_auto_flow": null,
            "grid_auto_rows": null,
            "grid_column": null,
            "grid_gap": null,
            "grid_row": null,
            "grid_template_areas": null,
            "grid_template_columns": null,
            "grid_template_rows": null,
            "height": null,
            "justify_content": null,
            "justify_items": null,
            "left": null,
            "margin": null,
            "max_height": null,
            "max_width": null,
            "min_height": null,
            "min_width": null,
            "object_fit": null,
            "object_position": null,
            "order": null,
            "overflow": null,
            "overflow_x": null,
            "overflow_y": null,
            "padding": null,
            "right": null,
            "top": null,
            "visibility": null,
            "width": null
          }
        },
        "90756ddc7db94fba8fd92b8d915eb7cd": {
          "model_module": "@jupyter-widgets/controls",
          "model_name": "ProgressStyleModel",
          "model_module_version": "1.5.0",
          "state": {
            "_model_module": "@jupyter-widgets/controls",
            "_model_module_version": "1.5.0",
            "_model_name": "ProgressStyleModel",
            "_view_count": null,
            "_view_module": "@jupyter-widgets/base",
            "_view_module_version": "1.2.0",
            "_view_name": "StyleView",
            "bar_color": null,
            "description_width": ""
          }
        },
        "0698fd83d5da4cb387ddc24479a3fb90": {
          "model_module": "@jupyter-widgets/base",
          "model_name": "LayoutModel",
          "model_module_version": "1.2.0",
          "state": {
            "_model_module": "@jupyter-widgets/base",
            "_model_module_version": "1.2.0",
            "_model_name": "LayoutModel",
            "_view_count": null,
            "_view_module": "@jupyter-widgets/base",
            "_view_module_version": "1.2.0",
            "_view_name": "LayoutView",
            "align_content": null,
            "align_items": null,
            "align_self": null,
            "border": null,
            "bottom": null,
            "display": null,
            "flex": null,
            "flex_flow": null,
            "grid_area": null,
            "grid_auto_columns": null,
            "grid_auto_flow": null,
            "grid_auto_rows": null,
            "grid_column": null,
            "grid_gap": null,
            "grid_row": null,
            "grid_template_areas": null,
            "grid_template_columns": null,
            "grid_template_rows": null,
            "height": null,
            "justify_content": null,
            "justify_items": null,
            "left": null,
            "margin": null,
            "max_height": null,
            "max_width": null,
            "min_height": null,
            "min_width": null,
            "object_fit": null,
            "object_position": null,
            "order": null,
            "overflow": null,
            "overflow_x": null,
            "overflow_y": null,
            "padding": null,
            "right": null,
            "top": null,
            "visibility": null,
            "width": null
          }
        },
        "1a6b9378e0c047d4a9b9b71a7c5d6a84": {
          "model_module": "@jupyter-widgets/controls",
          "model_name": "DescriptionStyleModel",
          "model_module_version": "1.5.0",
          "state": {
            "_model_module": "@jupyter-widgets/controls",
            "_model_module_version": "1.5.0",
            "_model_name": "DescriptionStyleModel",
            "_view_count": null,
            "_view_module": "@jupyter-widgets/base",
            "_view_module_version": "1.2.0",
            "_view_name": "StyleView",
            "description_width": ""
          }
        }
      }
    }
  },
  "nbformat": 4,
  "nbformat_minor": 0
}